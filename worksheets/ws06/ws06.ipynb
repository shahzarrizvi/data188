{
 "cells": [
  {
   "cell_type": "code",
   "execution_count": 2,
   "metadata": {
    "id": "yixENsgFiW_K"
   },
   "outputs": [],
   "source": [
    "from datascience import *\n",
    "from prob140 import *\n",
    "import numpy as np\n",
    "from scipy import stats\n",
    "import matplotlib.pyplot as plt\n",
    "plt.style.use('fivethirtyeight')\n",
    "%matplotlib inline"
   ]
  },
  {
   "cell_type": "markdown",
   "metadata": {
    "id": "0wlZQB5tiW_O"
   },
   "source": [
    "# Worksheet 6\n",
    "\n",
    "We prefer that you write legibly by hand than use $\\LaTeX{}$ or other typesetting software. Sketches should be hand-drawn and roughly right; the point is not precision but a general idea of the shapes involved.\n",
    "\n",
    "Please provide reasoning throughout, and answer open-ended questions thoughtfully. Turning in scrappy work will result in loss of credit."
   ]
  },
  {
   "cell_type": "markdown",
   "metadata": {
    "id": "sQVrnZwDiW_Q"
   },
   "source": [
    "## 1. Rice Ex 9.20\n",
    "\n",
    "Consider two probability density functions on $[0, 1]$: $f_0(x) = 1$, and $f_1(x) = 2x$. Among all tests with $H_0: X \\sim f_0$ versus $H_1: X \\sim f_1$, with significance level $\\alpha = 0.10$, how large can the power possibly be?\n",
    "\n",
    "[Note: The fight is between the beta $(1, 1)$ and the beta $(2, 1)$ distributions.]"
   ]
  },
  {
   "cell_type": "markdown",
   "metadata": {
    "id": "Oh8yxcNBiW_Q"
   },
   "source": [
    "## 2. The $p$ Value\n",
    "\n",
    "**(a) Preliminary:** Let $F$ be a continuous, increasing cdf. Recall from [Section 16.3](http://prob140.org/textbook/content/Chapter_16/03_Simulation_via_the_CDF.html) of the Data 140 book that if $U$ is uniform on the unit interval, then the random variable $X$ defined by $X = F^{-1}(U)$ has cdf $F$. What is the distribution of $F(X)$?\n",
    "\n",
    "**(b)** Explain why the $p$ value of a test is a random variable.\n",
    "\n",
    "In what follows, suppose a test rejects the null hypothesis for large values of a statistic $T$. Suppose that under the null hypothesis, $T$ has a continuous increasing cdf $F$. \n",
    "\n",
    "**(c)** Let $V$ be the $p$ value of the test. Write $V$ in terms of $F$ and $T$.\n",
    "\n",
    "**(d)** What is the null distribution of $V$?\n",
    "\n",
    "**(e)** Suppose each of 100 students tests whether or not a coin is fair by tossing the coin 400 times and chosing the test statistic to be the absolute difference between $0.5$ and the sample proportion of heads. Suppose that in fact the coin is fair. Draw a rough sketch of the empirical histogram of the 100 $p$ values, and provide the expected proportion of students who get a $p$ value less than $0.05$."
   ]
  },
  {
   "cell_type": "markdown",
   "metadata": {
    "id": "_hj3XLG0iW_S"
   },
   "source": [
    "## 3. Evaluating a Decision Rule\n",
    "\n",
    "Suppose my data are 100 i.i.d. Bernoulli $(p)$ random variables and I am testing the hypotheses\n",
    "\n",
    "- $H_0: p = 0.5$\n",
    "- $H_1: p = 0.7$\n",
    "\n",
    "Suppose my decision rule is that I will reject $H_0$ if the observed proportion of successes is at least $0.6$.\n",
    "\n",
    "**(a)** Use the code cell below to find the numerical values of the level and power of my test."
   ]
  },
  {
   "cell_type": "code",
   "execution_count": null,
   "metadata": {
    "id": "zma32rumiW_T"
   },
   "outputs": [],
   "source": [
    "# Part (a)\n",
    "..."
   ]
  },
  {
   "cell_type": "markdown",
   "metadata": {
    "id": "xcT30gCAiW_U"
   },
   "source": [
    "**(b)** Suppose you were willing to test at the higher level 5%. How could you modify my test, and what would be the power of your test? Discuss."
   ]
  },
  {
   "cell_type": "code",
   "execution_count": 4,
   "metadata": {
    "id": "2Wa-VDmpiW_U",
    "scrolled": true
   },
   "outputs": [
    {
     "data": {
      "text/plain": [
       "59.0"
      ]
     },
     "execution_count": 4,
     "metadata": {},
     "output_type": "execute_result"
    }
   ],
   "source": [
    "# Part (b)\n",
    "stats.binom.ppf(0.95, 100, 0.5) + 1"
   ]
  },
  {
   "cell_type": "code",
   "execution_count": 7,
   "metadata": {},
   "outputs": [
    {
     "data": {
      "text/plain": [
       "0.066605309603606888"
      ]
     },
     "execution_count": 7,
     "metadata": {},
     "output_type": "execute_result"
    }
   ],
   "source": [
    "1 - stats.binom.cdf(57, 100, 0.5)"
   ]
  },
  {
   "cell_type": "markdown",
   "metadata": {
    "id": "JI7Rxny5iW_V"
   },
   "source": [
    "## 4. Test for a Bernoulli $p$\n",
    "\n",
    "Let $X_1, X_2, \\ldots, X_n$ be i.i.d. Bernoulli $(p)$, and consider a test of the two simple hypotheses\n",
    "\n",
    "- $H_0: p = 0.5$\n",
    "- $H_1: p = p_1$ for some fixed $p_1 > 0.5$.\n",
    "\n",
    "**(a)** Construct a likelihood ratio test of level $\\alpha$ and explain how you would come up with the rejection region. Discuss whether the fact that this setting is discrete affects the calculations.\n",
    "\n",
    "[It is helpful to simplify the likelihood ratio as much as possible and focus on only the terms that involve the data.]\n",
    "\n",
    "**(b)** Is the test in Part (a) uniformly most powerful for testing\n",
    "\n",
    "- $H_0: p = 0.5$\n",
    "- $H_1: p > 0.5$"
   ]
  },
  {
   "cell_type": "markdown",
   "metadata": {
    "id": "VT-raqnpiW_V"
   },
   "source": [
    "## 5. Power Curves\n",
    "\n",
    "Let $X_1, X_2, \\ldots, X_n$ be i.i.d. normal $(\\mu, 1)$, and consider the 5% level likelihood ratio test of the following hypotheses.\n",
    "\n",
    "- $H_0: \\mu = 10$\n",
    "- $H_1: \\mu > 10$\n",
    "\n",
    "We derived the test in the seminar. \n",
    "\n",
    "**(a)** Define the array `mu_1 = np.arange(10.01, 12.01, 0.01)`. For $n=5$, compute the power of the test for each fixed $\\mu_1$ in `mu_1`, and plot the power against `mu_1`. Do the same for $n=50$, plotting the power in the same figure as for $n=5$. You should end up with two curves in the same figure, not two different figures.\n",
    "\n",
    "**(b)** What value do both the power curves converge to as $\\mu$ tends to $10$ from the right? Why?\n",
    "\n",
    "**(c)** Provide two reasons for low power, as indicated by the curves."
   ]
  }
 ],
 "metadata": {
  "colab": {
   "collapsed_sections": [],
   "provenance": []
  },
  "kernelspec": {
   "display_name": "Python 3 (ipykernel)",
   "language": "python",
   "name": "python3"
  },
  "language_info": {
   "codemirror_mode": {
    "name": "ipython",
    "version": 3
   },
   "file_extension": ".py",
   "mimetype": "text/x-python",
   "name": "python",
   "nbconvert_exporter": "python",
   "pygments_lexer": "ipython3",
   "version": "3.9.15"
  }
 },
 "nbformat": 4,
 "nbformat_minor": 4
}
