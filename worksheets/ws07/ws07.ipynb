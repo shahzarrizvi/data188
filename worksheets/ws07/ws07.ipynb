{
 "cells": [
  {
   "cell_type": "code",
   "execution_count": null,
   "metadata": {
    "#solution": false,
    "#staff": false,
    "#student": false,
    "deletable": false,
    "editable": false,
    "slideshow": {
     "slide_type": ""
    },
    "tags": []
   },
   "outputs": [],
   "source": [
    "from prob140 import *\n",
    "from datascience import *\n",
    "import numpy as np\n",
    "from scipy import stats\n",
    "from scipy import special\n",
    "from itertools import combinations\n",
    "\n",
    "import matplotlib.pyplot as plt\n",
    "%matplotlib inline\n",
    "import matplotlib\n",
    "matplotlib.style.use('fivethirtyeight')"
   ]
  },
  {
   "cell_type": "markdown",
   "metadata": {
    "#solution": false,
    "#staff": false,
    "#student": false,
    "deletable": false,
    "editable": false,
    "slideshow": {
     "slide_type": ""
    },
    "tags": []
   },
   "source": [
    "# Worksheet 7\n",
    "\n",
    "You do not need to turn in any written work for this worksheet. Please answer all questions in the code or markdown cells provided. Please provide reasoning throughout, and answer open-ended questions thoughtfully. Turning in scrappy work will result in loss of credit."
   ]
  },
  {
   "cell_type": "markdown",
   "metadata": {
    "#solution": false,
    "#staff": false,
    "#student": false,
    "deletable": false,
    "editable": false,
    "slideshow": {
     "slide_type": ""
    },
    "tags": []
   },
   "source": [
    "\\newpage\n",
    "## 1.  Ranks\n",
    "We will examine the Wilcoxon rank sum test by revisiting Deflategate, a storm in the world of American football and a topic familiar to us from Data 8.\n",
    "\n",
    "Here are some extracts from the Data 8 textbook:\n",
    "\n",
    ">On January 18, 2015, the Indianapolis Colts and the New England Patriots played the American Football Conference (AFC) championship game to determine which of those teams would play in the Super Bowl. After the game, there were allegations that the Patriots' footballs had not been inflated as much as the regulations required; they were softer. This could be an advantage, as softer balls might be easier to catch ...\n",
    "\n",
    ">At half-time, all the game balls were collected for inspection. Two officials, Clete Blakeman and Dyrol Prioleau, measured the pressure in each of the balls. \n",
    "\n",
    ">Here are the data. Each row corresponds to one football. Pressure is measured in psi [pounds per square inch]. The Patriots ball that had been intercepted by the Colts was not inspected at half-time. Nor were most of the Colts' balls – the officials simply ran out of time and had to relinquish the balls for the start of second half play.\n",
    "\n",
    "Each team had 12 footballs. Eleven of the Patriots' footballs were measured, and four of the Colts'."
   ]
  },
  {
   "cell_type": "code",
   "execution_count": null,
   "metadata": {
    "#solution": false,
    "#staff": false,
    "#student": false,
    "deletable": false,
    "editable": true,
    "slideshow": {
     "slide_type": ""
    },
    "tags": []
   },
   "outputs": [],
   "source": [
    "football = Table.read_table('deflategate.csv')"
   ]
  },
  {
   "cell_type": "code",
   "execution_count": null,
   "metadata": {
    "#solution": false,
    "#staff": false,
    "#student": false,
    "deletable": false,
    "editable": true,
    "slideshow": {
     "slide_type": ""
    },
    "tags": []
   },
   "outputs": [],
   "source": [
    "football.show()"
   ]
  },
  {
   "cell_type": "markdown",
   "metadata": {
    "#solution": false,
    "#staff": false,
    "#student": false,
    "deletable": false,
    "editable": false,
    "slideshow": {
     "slide_type": ""
    },
    "tags": []
   },
   "source": [
    "It is clear that the Patriots' footballs had less pressure than the Colts'. But that is not a fair comparison since the two sets of footballs started out at different pressures: all the Patriots' footballs at 12.5 psi and the Colts' at 13 psi, both levels allowed by NFL regulations. \n",
    "\n",
    "Pressure drops naturally during the game. The variable of interest, therefore, is the amount by which the pressure dropped. The Colts' allegation can be politely restated as saying that the drops in pressure among the Patriots' footballs were so large that something unusual had to have happened."
   ]
  },
  {
   "cell_type": "markdown",
   "metadata": {
    "#solution": false,
    "#staff": false,
    "#student": false,
    "deletable": false,
    "editable": false,
    "slideshow": {
     "slide_type": ""
    },
    "tags": []
   },
   "source": [
    "**(a)** Based on each of the columns `Blakeman` and `Prioleau`, calculate the drop in pressure for each football. Start by creating an array of the 15 starting values of pressure. Remember that `np.ones(n)` evaluates to an array of $n$ 1's, and `np.append(array_1, array_2)` evaluates to an array that appends `array_2` to `array_1`. "
   ]
  },
  {
   "cell_type": "code",
   "execution_count": null,
   "metadata": {
    "#solution": false,
    "#staff": false,
    "#student": true,
    "deletable": false,
    "editable": true,
    "slideshow": {
     "slide_type": ""
    },
    "tags": []
   },
   "outputs": [],
   "source": [
    "start = ...\n",
    "\n",
    "blakeman_drops = start - ...\n",
    "prioleau_drops = start - ..."
   ]
  },
  {
   "cell_type": "markdown",
   "metadata": {
    "#solution": false,
    "#staff": false,
    "#student": false,
    "deletable": false,
    "editable": false,
    "slideshow": {
     "slide_type": ""
    },
    "tags": []
   },
   "source": [
    "Run the cell below and confirm a few of the drop values by mental math."
   ]
  },
  {
   "cell_type": "code",
   "execution_count": null,
   "metadata": {
    "#solution": false,
    "#staff": false,
    "#student": false,
    "deletable": false,
    "editable": false,
    "slideshow": {
     "slide_type": ""
    },
    "tags": []
   },
   "outputs": [],
   "source": [
    "drops = football.drop(1, 2).with_columns(\n",
    "    'Blakeman', blakeman_drops,\n",
    "    'Prioleau', prioleau_drops\n",
    ")\n",
    "\n",
    "drops.show()"
   ]
  },
  {
   "cell_type": "markdown",
   "metadata": {
    "#solution": false,
    "#staff": false,
    "#student": false,
    "deletable": false,
    "editable": false,
    "slideshow": {
     "slide_type": ""
    },
    "tags": []
   },
   "source": [
    "**(b)** It does look as though the pressure drop among the Colts' footballs was less than that among the Patriots'. To test whether this is truly the case, we'll need to deal with the fact that the two officials' measurements were different from each other. The key idea is this: since we are just interested in the ordering of the pressure drops and not their actual values, we should look at the ranks and see how the two officials' rankings compare.\n",
    "\n",
    "The `stats` function `rankdata` takes a numerical array as its argument and returns the array of ranks."
   ]
  },
  {
   "cell_type": "code",
   "execution_count": null,
   "metadata": {
    "#solution": false,
    "#staff": false,
    "#student": false,
    "deletable": false,
    "editable": false,
    "slideshow": {
     "slide_type": ""
    },
    "tags": []
   },
   "outputs": [],
   "source": [
    "data_1 = make_array(27, 32, 28, 35, 25)\n",
    "stats.rankdata(data_1)"
   ]
  },
  {
   "cell_type": "markdown",
   "metadata": {
    "#solution": false,
    "#staff": false,
    "#student": false,
    "deletable": false,
    "editable": false,
    "slideshow": {
     "slide_type": ""
    },
    "tags": []
   },
   "source": [
    "When we use rank-based methods we do have to face the issue of \"ties,\" that is, data values that are equal. For what we are going to do in this worksheet, it doesn't matter how you rank tied values. We ask that you rank ties by using the `method = 'ordinal'` option of `rankdata`. It assigns distinct ranks to all the values, assigning consecutive ranks to equal values in the order in which they appear in the data."
   ]
  },
  {
   "cell_type": "code",
   "execution_count": null,
   "metadata": {
    "#solution": false,
    "#staff": false,
    "#student": false,
    "deletable": false,
    "editable": false,
    "slideshow": {
     "slide_type": ""
    },
    "tags": []
   },
   "outputs": [],
   "source": [
    "data_2 = np.append(data_1, 32 * np.ones(3))\n",
    "data_2, stats.rankdata(data_2, method = 'ordinal')"
   ]
  },
  {
   "cell_type": "markdown",
   "metadata": {
    "#solution": false,
    "#staff": false,
    "#student": false,
    "deletable": false,
    "editable": false,
    "slideshow": {
     "slide_type": ""
    },
    "tags": []
   },
   "source": [
    "Use `rankdata` with the `method = 'ordinal'` option to rank Blakeman's drop values, and, separately, Prioleau's drop values."
   ]
  },
  {
   "cell_type": "code",
   "execution_count": null,
   "metadata": {
    "#solution": false,
    "#staff": false,
    "#student": true,
    "deletable": false,
    "editable": true,
    "slideshow": {
     "slide_type": ""
    },
    "tags": []
   },
   "outputs": [],
   "source": [
    "blakeman_ranks = stats.rankdata(...)\n",
    "prioleau_ranks = stats.rankdata(...)"
   ]
  },
  {
   "cell_type": "markdown",
   "metadata": {
    "#solution": false,
    "#staff": false,
    "#student": false,
    "deletable": false,
    "editable": false,
    "slideshow": {
     "slide_type": ""
    },
    "tags": []
   },
   "source": [
    "Look at the ranks below and do a quick mental check of a few of them for accuracy."
   ]
  },
  {
   "cell_type": "code",
   "execution_count": null,
   "metadata": {
    "#solution": false,
    "#staff": false,
    "#student": false,
    "deletable": false,
    "editable": false,
    "slideshow": {
     "slide_type": ""
    },
    "tags": []
   },
   "outputs": [],
   "source": [
    "drops = drops.with_columns(\n",
    "    'Blakeman Ranks', blakeman_ranks,\n",
    "    'Prioleau Ranks', prioleau_ranks\n",
    ")\n",
    "\n",
    "drops.show()"
   ]
  },
  {
   "cell_type": "markdown",
   "metadata": {
    "#solution": false,
    "#staff": false,
    "#student": false,
    "deletable": false,
    "editable": false,
    "slideshow": {
     "slide_type": ""
    },
    "tags": []
   },
   "source": [
    "**(c)** In which columns is it easier to compare consistency and inconsistency between the two officials: the ranks or the drop values? What consistencies and inconsistencies do you notice when you compare the ranks?"
   ]
  },
  {
   "cell_type": "markdown",
   "metadata": {
    "#solution": false,
    "#staff": false,
    "#student": true,
    "deletable": false,
    "editable": true,
    "slideshow": {
     "slide_type": ""
    },
    "tags": []
   },
   "source": [
    "*Your answer here.*"
   ]
  },
  {
   "cell_type": "markdown",
   "metadata": {
    "#solution": false,
    "#staff": false,
    "#student": false,
    "deletable": false,
    "editable": false,
    "slideshow": {
     "slide_type": ""
    },
    "tags": []
   },
   "source": [
    "\\newpage\n",
    "## 2. Wilcoxon's Rank Sum Statistic\n",
    "Is the difference due to chance? More precisely, the question is whether the Colts' ranks are like a simple random sample of all 15 ranks or whether the Colts' ranks are generally smaller than the Patriots'. If the Colts' ranks are smaller, then it means that the pressure in the Patriots' footballs dropped by more than can be explained by random chance. That is what the Colts were alleging. \n",
    "\n",
    "In fact, the Colts were alleging even more, which is that the increased drop was deliberate. We can't assess that. But we can see whether the the Colts' ranks are generally too low to be explained by chance.\n",
    "\n",
    "It is now time to quantify \"ranks are generally too low\". We will do this by using the **[Wilcoxon](https://en.wikipedia.org/wiki/Frank_Wilcoxon) Rank Sum statistic**, which is just the sum of the Colts' ranks. A low rank sum corresponds to the Colts' ranks being \"generally low\". In general, the Wilcoxon rank sum statistic is the sum of the ranks of one of the two samples.\n",
    "\n",
    "It is important to keep in mind that we are not interested in which of the Colts' footballs received which rank; we are just interested in the set of ranks received by those balls. That is, we are interested in an unordered sample of 4 out of the 15 ranks."
   ]
  },
  {
   "cell_type": "markdown",
   "metadata": {
    "#solution": false,
    "#staff": false,
    "#student": false,
    "deletable": false,
    "editable": false,
    "slideshow": {
     "slide_type": ""
    },
    "tags": []
   },
   "source": [
    "**(a)** We'll start with Blakeman's rank sum.\n",
    "\n",
    "**(i)** What is the rank sum statistic based on Blakeman's ranks? That is, what is the sum of the Colts' ranks as assigned by Blakeman?"
   ]
  },
  {
   "cell_type": "markdown",
   "metadata": {
    "#solution": false,
    "#staff": false,
    "#student": true,
    "deletable": false,
    "editable": true,
    "slideshow": {
     "slide_type": ""
    },
    "tags": []
   },
   "source": [
    "*Your answer here.*"
   ]
  },
  {
   "cell_type": "markdown",
   "metadata": {
    "#solution": false,
    "#staff": false,
    "#student": false,
    "deletable": false,
    "editable": false,
    "slideshow": {
     "slide_type": ""
    },
    "tags": []
   },
   "source": [
    "**(ii)** How many sets of four can be formed from among the numbers 1 through 15? Remember that `special.comb(n, k)` evaluates to $\\binom{n}{k}$."
   ]
  },
  {
   "cell_type": "code",
   "execution_count": null,
   "metadata": {
    "#solution": false,
    "#staff": false,
    "#student": true,
    "deletable": false,
    "editable": true,
    "slideshow": {
     "slide_type": ""
    },
    "tags": []
   },
   "outputs": [],
   "source": [
    "total_samples = ...\n",
    "total_samples"
   ]
  },
  {
   "cell_type": "markdown",
   "metadata": {
    "#solution": false,
    "#staff": false,
    "#student": false,
    "deletable": false,
    "editable": false,
    "slideshow": {
     "slide_type": ""
    },
    "tags": []
   },
   "source": [
    "**(iii)** What is the smallest possible sum that you can get from a subset of four numbers from chosen from the integers 1 through 15? How many subsets have this sum? "
   ]
  },
  {
   "cell_type": "markdown",
   "metadata": {
    "#solution": false,
    "#staff": false,
    "#student": true,
    "deletable": false,
    "editable": true,
    "slideshow": {
     "slide_type": ""
    },
    "tags": []
   },
   "source": [
    "*Your answer here.*"
   ]
  },
  {
   "cell_type": "markdown",
   "metadata": {
    "#solution": false,
    "#staff": false,
    "#student": false,
    "deletable": false,
    "editable": false,
    "slideshow": {
     "slide_type": ""
    },
    "tags": []
   },
   "source": [
    "**(iv)** Based on the value of Blakeman's rank sum, should you conclude that the Colts' ranks are like a random sample of four ranks? Explain briefly."
   ]
  },
  {
   "cell_type": "markdown",
   "metadata": {
    "#solution": false,
    "#staff": false,
    "#student": true,
    "deletable": false,
    "editable": true,
    "slideshow": {
     "slide_type": ""
    },
    "tags": []
   },
   "source": [
    "*Your answer here.*"
   ]
  },
  {
   "cell_type": "markdown",
   "metadata": {
    "#solution": false,
    "#staff": false,
    "#student": false,
    "deletable": false,
    "editable": false,
    "slideshow": {
     "slide_type": ""
    },
    "tags": []
   },
   "source": [
    "**(b)** For the remainder of the question, we'll use Prioleau's ranks."
   ]
  },
  {
   "cell_type": "code",
   "execution_count": null,
   "metadata": {
    "#solution": false,
    "#staff": false,
    "#student": false,
    "deletable": false,
    "editable": false,
    "slideshow": {
     "slide_type": ""
    },
    "tags": []
   },
   "outputs": [],
   "source": [
    "prioleau = drops.select(0, 4)\n",
    "prioleau.show()"
   ]
  },
  {
   "cell_type": "markdown",
   "metadata": {
    "#solution": false,
    "#staff": false,
    "#student": false,
    "deletable": false,
    "editable": false,
    "slideshow": {
     "slide_type": ""
    },
    "tags": []
   },
   "source": [
    "You can of course calculate Prioleau's rank sum mentally, but for further applications it is useful to be able to do this using Python.\n",
    "\n",
    "**(i)** Use `group` to find Prioleau's rank sum for both teams. Refer to the [Data 8 Python reference](http://data8.org/sp18/python-reference.html) if necessary. The table `both_sums` should contain both the rank sums, and `prioleau_colts_sum` should be the observed value of Prioleau's statistic."
   ]
  },
  {
   "cell_type": "code",
   "execution_count": null,
   "metadata": {
    "#solution": false,
    "#staff": false,
    "#student": true,
    "deletable": false,
    "editable": true,
    "slideshow": {
     "slide_type": ""
    },
    "tags": []
   },
   "outputs": [],
   "source": [
    "both_sums = ...\n",
    "prioleau_colts_sum = ...\n",
    "\n",
    "both_sums"
   ]
  },
  {
   "cell_type": "markdown",
   "metadata": {
    "#solution": false,
    "#staff": false,
    "#student": false,
    "deletable": false,
    "editable": false,
    "slideshow": {
     "slide_type": ""
    },
    "tags": []
   },
   "source": [
    "**(ii)** Use the cell below to show why the total of all the ranks is 120. Fill in the comment as an explanation, and then compute the sum **not by brute force but by using an appropriate formula that can easily be applied when the sample is larger.**"
   ]
  },
  {
   "cell_type": "code",
   "execution_count": null,
   "metadata": {
    "#solution": false,
    "#staff": false,
    "#student": true,
    "deletable": false,
    "editable": true,
    "slideshow": {
     "slide_type": ""
    },
    "tags": []
   },
   "outputs": [],
   "source": [
    "# The total of the ranks is the sum of ...\n",
    "\n",
    "..."
   ]
  },
  {
   "cell_type": "markdown",
   "metadata": {
    "#solution": false,
    "#staff": false,
    "#student": false,
    "deletable": false,
    "editable": false,
    "slideshow": {
     "slide_type": ""
    },
    "tags": []
   },
   "source": [
    "**(c)** The `combinations` function of `itertools` has been imported and is used below to display all the subsets of 4 out the 15 ranks. These are all the possible samples of ranks that the Colts' could have. Check that the table has the right number of rows."
   ]
  },
  {
   "cell_type": "code",
   "execution_count": null,
   "metadata": {
    "#solution": false,
    "#staff": false,
    "#student": false,
    "deletable": false,
    "editable": false,
    "slideshow": {
     "slide_type": ""
    },
    "tags": []
   },
   "outputs": [],
   "source": [
    "population = np.arange(1, 16)\n",
    "\n",
    "all_samples = Table().with_column(\n",
    "    'Ranks', list(combinations(population, 4))\n",
    ")\n",
    "\n",
    "all_samples"
   ]
  },
  {
   "cell_type": "markdown",
   "metadata": {
    "#solution": false,
    "#staff": false,
    "#student": false,
    "deletable": false,
    "editable": false,
    "slideshow": {
     "slide_type": ""
    },
    "tags": []
   },
   "source": [
    "Construct an array `rank_sums` consisting of the sums of the ranks in all the samples, and augment the table `all_samples` with a column `Rank Sum` containing the rank sums."
   ]
  },
  {
   "cell_type": "code",
   "execution_count": null,
   "metadata": {
    "#solution": false,
    "#staff": false,
    "#student": true,
    "deletable": false,
    "editable": true,
    "slideshow": {
     "slide_type": ""
    },
    "tags": []
   },
   "outputs": [],
   "source": [
    "rank_sums = ...\n",
    "\n",
    "all_samples = ...\n",
    "\n",
    "all_samples"
   ]
  },
  {
   "cell_type": "markdown",
   "metadata": {
    "#solution": false,
    "#staff": false,
    "#student": false,
    "deletable": false,
    "editable": false,
    "slideshow": {
     "slide_type": ""
    },
    "tags": []
   },
   "source": [
    "**(d)** Now we consider the probability distribution of the rank sum statistic.\n",
    "\n",
    "**(i)** What is the smallest and largest the rank sum can be? You should not need to use `sort`."
   ]
  },
  {
   "cell_type": "code",
   "execution_count": null,
   "metadata": {
    "#solution": false,
    "#staff": false,
    "#student": true,
    "deletable": false,
    "editable": true,
    "slideshow": {
     "slide_type": ""
    },
    "tags": []
   },
   "outputs": [],
   "source": [
    "smallest = ...\n",
    "largest = ...\n",
    "\n",
    "smallest, largest"
   ]
  },
  {
   "cell_type": "markdown",
   "metadata": {
    "#solution": false,
    "#staff": false,
    "#student": false,
    "deletable": false,
    "editable": false,
    "slideshow": {
     "slide_type": ""
    },
    "tags": []
   },
   "source": [
    "**(ii)** Draw a histogram of the rank sums, using bins of width 1 centered on each possible value of the rank sum. As this histogram is based on every possible sample, it displays the *sampling distribution* or equivalently the exact probability distribution of the rank sum statistic under the null hypothesis of random selection.\n",
    "\n",
    "Note that you will need to offset your bins by 0.5 to ensure that the bars are centered properly.\n",
    "\n",
    "The additional lines of code plots the observed rank sum on the horizontal axis."
   ]
  },
  {
   "cell_type": "code",
   "execution_count": null,
   "metadata": {
    "#solution": false,
    "#staff": false,
    "#student": true,
    "deletable": false,
    "editable": true,
    "slideshow": {
     "slide_type": ""
    },
    "tags": []
   },
   "outputs": [],
   "source": [
    "...\n",
    "plt.scatter(prioleau_colts_sum, 0, color='red', s=40)\n",
    "plt.ylim(-0.005, 0.05);"
   ]
  },
  {
   "cell_type": "markdown",
   "metadata": {
    "#solution": false,
    "#staff": false,
    "#student": false,
    "deletable": false,
    "editable": false,
    "slideshow": {
     "slide_type": ""
    },
    "tags": []
   },
   "source": [
    "**(e)** Using the exact distribution of Prioleau's rank sum statistic, we can conduct the Wilcoxon rank sum test.\n",
    "\n",
    "**(i)** Compute the $p$ value of the test. This is an exact $p$ value, not an empirical or numerical approximation."
   ]
  },
  {
   "cell_type": "code",
   "execution_count": null,
   "metadata": {
    "#solution": false,
    "#staff": false,
    "#student": true,
    "deletable": false,
    "editable": true,
    "slideshow": {
     "slide_type": ""
    },
    "tags": []
   },
   "outputs": [],
   "source": [
    "p_val = ...\n",
    "p_val"
   ]
  },
  {
   "cell_type": "markdown",
   "metadata": {
    "#solution": false,
    "#staff": false,
    "#student": false,
    "deletable": false,
    "editable": false,
    "slideshow": {
     "slide_type": ""
    },
    "tags": []
   },
   "source": [
    "**(ii)** What is your decision, based on the test? Which of the two hypotheses do you think is better supported by Prioleau's measurements?"
   ]
  },
  {
   "cell_type": "markdown",
   "metadata": {
    "#solution": false,
    "#staff": false,
    "#student": true,
    "editable": true,
    "slideshow": {
     "slide_type": ""
    },
    "tags": []
   },
   "source": [
    "*Your answer here.*"
   ]
  },
  {
   "cell_type": "markdown",
   "metadata": {
    "#solution": false,
    "#staff": false,
    "#student": false,
    "deletable": false,
    "editable": false,
    "slideshow": {
     "slide_type": ""
    },
    "tags": []
   },
   "source": [
    "\\newpage\n",
    "## 3. Normal Curves\n",
    "The probability distribution of the rank sum statistic looks very much like the normal distribution, but not exactly. For example, look at the peak of the histogram. You will see two flat bits on either side. \n",
    "\n",
    "Still, the distribution doesn't look too far from normal, so it is worth reminding ourselves about the normal curve. This exercise takes you quickly through some code that you can use to display normal curves and areas under them."
   ]
  },
  {
   "cell_type": "markdown",
   "metadata": {
    "#solution": false,
    "#staff": false,
    "#student": false,
    "deletable": false,
    "editable": false,
    "slideshow": {
     "slide_type": ""
    },
    "tags": []
   },
   "source": [
    "**(a)** As you know, the equation of this curve is one of the greatest hits of probability theory, mathematics, and statistics. The parameters of the curve are a expectation $\\mu$ that can be any number, and a variance $\\sigma^2$ that is a positive number. The equation is\n",
    "\n",
    "$$\n",
    "f(x) ~ = ~ \\frac{1}{\\sqrt{2\\pi}\\sigma} e^{-\\frac{1}{2}\\big{(}\\frac{x-\\mu}{\\sigma}\\big{)}^2}, ~~~~~~~ -\\infty < x < \\infty\n",
    "$$\n",
    "\n",
    "To plot the normal curve, use the `prob140` function `Plot_norm` with three arguments:\n",
    "- the interval of values of $x$ over which to plot the curve\n",
    "- the mean $\\mu$\n",
    "- the standard deviation $\\sigma$\n",
    "\n",
    "**(i)** Use `Plot_norm` to plot the standard normal curve. Plot the curve for four standard deviations about its mean."
   ]
  },
  {
   "cell_type": "code",
   "execution_count": null,
   "metadata": {
    "#solution": false,
    "#staff": false,
    "#student": false,
    "deletable": false,
    "editable": true,
    "slideshow": {
     "slide_type": ""
    },
    "tags": []
   },
   "outputs": [],
   "source": [
    "Plot_norm(...)"
   ]
  },
  {
   "cell_type": "markdown",
   "metadata": {
    "deletable": false,
    "editable": false,
    "slideshow": {
     "slide_type": ""
    },
    "tags": []
   },
   "source": [
    "**(ii)** Use `Plot_norm` to plot the normal curve with mean $68$ and variance $3$. As in **(i)**, plot the curve for four standard deviations about its mean."
   ]
  },
  {
   "cell_type": "code",
   "execution_count": null,
   "metadata": {
    "#solution": false,
    "#staff": false,
    "#student": false,
    "deletable": false,
    "editable": false,
    "slideshow": {
     "slide_type": ""
    },
    "tags": []
   },
   "outputs": [],
   "source": [
    "Plot_norm((56, 80), 68, 3)"
   ]
  },
  {
   "cell_type": "markdown",
   "metadata": {
    "#solution": false,
    "#staff": false,
    "#student": false,
    "deletable": false,
    "editable": false,
    "slideshow": {
     "slide_type": ""
    },
    "tags": []
   },
   "source": [
    "**(b)** The gold area below is $\\Phi(2)$, the value of the cdf of the standard normal at the point $x = 2$. Notice the use of `right_end = 2` to color the area; when the left end is not specified, it is assumed to be the leftmost value on the horizontal axis."
   ]
  },
  {
   "cell_type": "code",
   "execution_count": null,
   "metadata": {
    "#solution": false,
    "#staff": false,
    "#student": false,
    "deletable": false,
    "editable": false,
    "slideshow": {
     "slide_type": ""
    },
    "tags": []
   },
   "outputs": [],
   "source": [
    "Plot_norm((-4, 4), 0, 1, right_end = 2)"
   ]
  },
  {
   "cell_type": "markdown",
   "metadata": {
    "#solution": false,
    "#staff": false,
    "#student": false,
    "deletable": false,
    "editable": false,
    "slideshow": {
     "slide_type": ""
    },
    "tags": []
   },
   "source": [
    "Find the numerical value of the area below."
   ]
  },
  {
   "cell_type": "code",
   "execution_count": null,
   "metadata": {
    "#solution": false,
    "#staff": false,
    "#student": false,
    "deletable": false,
    "editable": false,
    "slideshow": {
     "slide_type": ""
    },
    "tags": []
   },
   "outputs": [],
   "source": [
    "Plot_norm((56, 80), 68, 3, left_end = 65, right_end = 71)"
   ]
  },
  {
   "cell_type": "code",
   "execution_count": null,
   "metadata": {
    "#solution": false,
    "#staff": false,
    "#student": true,
    "deletable": false,
    "editable": true,
    "slideshow": {
     "slide_type": ""
    },
    "tags": []
   },
   "outputs": [],
   "source": [
    "..."
   ]
  },
  {
   "cell_type": "markdown",
   "metadata": {
    "#solution": false,
    "#staff": false,
    "#student": false,
    "deletable": false,
    "editable": false,
    "slideshow": {
     "slide_type": ""
    },
    "tags": []
   },
   "source": [
    "\\newpage\n",
    "## 4. Normal Approximation\n",
    "Let's find the normal distribution that approximates the distribution of the rank sum statistic in Exercise 2. Why approximate a distribution we already know exactly? The answer is that we will need the method of approximation when the sample sizes are too large for us to be able to enumerate all possible samples. Finding the approximation in a case where we know the exact answer helps us see that the approximation is good."
   ]
  },
  {
   "cell_type": "markdown",
   "metadata": {
    "#solution": false,
    "#staff": false,
    "#student": false,
    "deletable": false,
    "editable": false,
    "slideshow": {
     "slide_type": ""
    },
    "tags": []
   },
   "source": [
    "**(a)** Under the null hypothesis of random selection, the distribution of our rank sum statistic is the distribution of the sum of a simple random sample of size 4 from the population of integers 1 through 15.\n",
    "\n",
    "In general, let $W$ be the sum of  $n$ ranks drawn at random without replacement from the integers 1 through $N$.\n",
    "\n",
    "Refer to [Sections 12.1](http://prob140.org/textbook/content/Chapter_12/01_Definition.html) and [13.4](http://prob140.org/textbook/content/Chapter_13/04_Symmetry_and_Indicators.html) of the textbook for the formulas that you need in order to define the functions below. \n",
    "\n",
    "**(i)** Define a function `ev_ranksum` that takes $n$ and $N$ as its arguments and returns $E(W)$. **Do not** use arrays or `np.average` in your definition. Use the formulas derived in class."
   ]
  },
  {
   "cell_type": "code",
   "execution_count": null,
   "metadata": {
    "#solution": false,
    "#staff": false,
    "#student": true,
    "deletable": false,
    "editable": true,
    "slideshow": {
     "slide_type": ""
    },
    "tags": []
   },
   "outputs": [],
   "source": [
    "def ev_ranksum(n, N):\n",
    "    return ...\n",
    "\n",
    "null_expectation = ev_ranksum(4, 15)\n",
    "null_expectation"
   ]
  },
  {
   "cell_type": "markdown",
   "metadata": {
    "#solution": false,
    "#staff": false,
    "#student": false,
    "deletable": false,
    "editable": false,
    "slideshow": {
     "slide_type": ""
    },
    "tags": []
   },
   "source": [
    "**(ii)** Now define a function `sd_ranksum` that takes $n$ and $N$ as arguments and returns $SD(W)$. **Do not** use arrays or `np.std` in your definition."
   ]
  },
  {
   "cell_type": "code",
   "execution_count": null,
   "metadata": {
    "#solution": false,
    "#staff": false,
    "#student": true,
    "deletable": false,
    "editable": true,
    "slideshow": {
     "slide_type": ""
    },
    "tags": []
   },
   "outputs": [],
   "source": [
    "def sd_ranksum(n, N):\n",
    "    return ...\n",
    "\n",
    "null_sd = sd_ranksum(4, 15)\n",
    "null_sd"
   ]
  },
  {
   "cell_type": "markdown",
   "metadata": {
    "#solution": false,
    "#staff": false,
    "#student": false,
    "deletable": false,
    "editable": false,
    "slideshow": {
     "slide_type": ""
    },
    "tags": []
   },
   "source": [
    "To check your numerical answers, remember that you enumerated every possible sample and hence every possible rank sum. Run the cell below and confirm that its output is the same as the values returned by your functions."
   ]
  },
  {
   "cell_type": "code",
   "execution_count": null,
   "metadata": {
    "#solution": false,
    "#staff": false,
    "#student": false,
    "deletable": false,
    "editable": false,
    "slideshow": {
     "slide_type": ""
    },
    "tags": []
   },
   "outputs": [],
   "source": [
    "np.average(rank_sums), np.std(rank_sums)"
   ]
  },
  {
   "cell_type": "markdown",
   "metadata": {
    "#solution": false,
    "#staff": false,
    "#student": false,
    "deletable": false,
    "editable": false,
    "slideshow": {
     "slide_type": ""
    },
    "tags": []
   },
   "source": [
    "**(b)** Re-use both lines of code in the last cell of 2<b>(d)</b> and `Plot_norm` appropriately to superpose the approximating normal distribution over the histogram. Ignore the last line in the cell. It just sets a vertical scale so you can see all the different aspects of the figure."
   ]
  },
  {
   "cell_type": "code",
   "execution_count": null,
   "metadata": {
    "#solution": false,
    "#staff": false,
    "#student": true,
    "deletable": false,
    "editable": true,
    "slideshow": {
     "slide_type": ""
    },
    "tags": []
   },
   "outputs": [],
   "source": [
    "...\n",
    "...\n",
    "\n",
    "Plot_norm(...)\n",
    "plt.ylim(-0.01, 0.06);"
   ]
  },
  {
   "cell_type": "markdown",
   "metadata": {
    "#solution": false,
    "#staff": false,
    "#student": false,
    "deletable": false,
    "editable": false,
    "slideshow": {
     "slide_type": ""
    },
    "tags": []
   },
   "source": [
    "You can see that the curve overestimates near the center, then underestimates on both sides, and then overestimates again in the tails. But it's not bad. The approximation typically improves when the sample sizes get larger."
   ]
  },
  {
   "cell_type": "markdown",
   "metadata": {
    "deletable": false,
    "editable": false,
    "slideshow": {
     "slide_type": ""
    },
    "tags": []
   },
   "source": [
    "**(c)** Compute an approximate $p$ value based on the normal approximation from **(b)**. Is your approximate $p$ value an overestimate or underestimate of the true $p$ value?"
   ]
  },
  {
   "cell_type": "code",
   "execution_count": null,
   "metadata": {
    "deletable": false,
    "editable": true,
    "slideshow": {
     "slide_type": ""
    },
    "tags": []
   },
   "outputs": [],
   "source": [
    "approx_p_val = ...\n",
    "p_val, approx_p_val"
   ]
  }
 ],
 "metadata": {
  "anaconda-cloud": {},
  "checksums": [
   "0011ff961059cb30605bb0bb5db4b42e",
   "50a07c14da72c6c483f10d47657ed98d",
   "0d335fadf8ff8bc0ba14afe328e68003",
   "daea4c5fc1179387e84bfb78d69aa285",
   "17285c1547cfc07d1349f44402f48939",
   "95aabe1c8dcd2f70513d7a7ba2cd3d7f",
   "0286d0a1c491e8c01760f81e94b3636b",
   "6295b23dbaf751cb29ea9b92e1279348",
   "ceba9b895d874739554c04e75ac0f158",
   "b632a396eaad335105e52d833a50dd06",
   "c0383a53f086be33a25cf05004424e28",
   "47e82ade0793d076800618c1b0fac378",
   "af31f3bec266400c95b30eb302a818ed",
   "ba9abad2f9276f1a09777cbe3161e0b5",
   "d9c521f97f84c0a1adce153a07fb7e9f",
   "59adc2539c59f06dd3b31ac388fdb197",
   "91fd0556b2b58c1591a20c1c4454f949",
   "c20e2f4c4e155c0910908f0501f97331",
   "06e6273d635548cb1acb14f0cb877830",
   "7580e157277642310de11f21b3f4a2aa",
   "22c2439855fe463912e8f8f624f03896",
   "d9f59ab7bbf94f9feefc187c26b7efe1",
   "3a76d7cce4e9ecdb4fe70737e7879960",
   "eaf3202cab97c787d5e74402770b56f4",
   "5a5216f1f21e8c565e5b731f62e3e607",
   "bc0a2735f52fe3ff5d96d5574ab815d7",
   "3a76d7cce4e9ecdb4fe70737e7879960",
   "4689665a43d690ab82a70ac7b201d142",
   "c8217143b8008b7b193b616e5425f8a6",
   "30e10b65c029f0ef85e0fad01ed13e9c",
   "3a76d7cce4e9ecdb4fe70737e7879960",
   "400d1f48c28c18836b9f0e2a826c5a5f",
   "3a76d7cce4e9ecdb4fe70737e7879960",
   "fa18736546b3251060c88573c05ddc86",
   "9b6f9970f1c3fa2feebbaad5f7c04358",
   "b06dcfed229ebacf5c2f63cf69eaa7c1",
   "923b836f44407a1daa6a3a356e2cd13c",
   "8ec599a5a74924b9215af74742625e49",
   "88b436150facb84a21b4137cf028c4cc",
   "765c06fb0a2fa9ec54c5d0c814260c90",
   "e3b216a45ea521dc2d2e12074fbfaecb",
   "1c7cd2431e1a95d1778371daa800f3df",
   "99747f3be2369a794b8d5b6f4622d7db",
   "ac5d63fd97e55780b39d53ae44b31977",
   "e4699c22cb5ba6e3bea407fb0e5369bf",
   "9be760764b2dfee5f76f398a6780e25b",
   "e46b462bf6b17c3e68579b7afde05796",
   "84e3f129d2facf258856470f2df8680d",
   "2f43b42fd833d1e77420a8dae7419000",
   "101908f928367c553d43260893bc385e",
   "3a76d7cce4e9ecdb4fe70737e7879960",
   "629cb7252adad3329af26f8d34b4b8e9",
   "68e17f22a6b85756a6a3fc14059fa660",
   "7bb515af8465ea4134ee8634d3b7fc99",
   "64d0d78fb3d67bc0b84e2e147215e08c",
   "17145de266a5be501cd5a69080aae537",
   "2f0c718408414a5a3d676b8f834b192d",
   "091204ef93a98c9dc350e9e7c5d9a889",
   "7368a874359fc4bc3dce15e2cec52bb1",
   "158551049de3937a05ab48a3042467bc",
   "b72077b2742b15ebdce9806413a84391",
   "42e5733ac5e255c212442e34ebaee9d9",
   "cff3fc401edc86f60cc9901efbbbd1ef",
   "2f43b42fd833d1e77420a8dae7419000",
   "2dcbf4a841420f2b5268a5810834f2a1",
   "81cca1a0b551533fdeb9be4952a075a8",
   "5c31207bc52b57ec1385fb8de2f904a2",
   "35676a73987dbfdd360049d60008899b",
   "ba53744a20f40a756dff2f5478a60177",
   "f863bd360de62a1a4c7b1e1befd77cb6",
   "adf1106410441d2233370f59f9c5883c",
   "daf2c7c732a5e83b6d256b0c809ad7e2",
   "d71a4d62086c93387f6a9279ade17b2a",
   "c845e51f2354c3bff150f224f07740b3",
   "cf3db7ad30da7cb65818d5a7ae6b3ab8",
   "69ccae2a33990d5efc956142b3a90557",
   "9fe17d864503edbfb0c244b84696e824",
   "2f43b42fd833d1e77420a8dae7419000",
   "47d071f12ec5866f36d1a63a3f726b92",
   "a213091834e42e82d096e19d30d634c0",
   "db1b520be6bbf970e98551d9773a3346",
   "6914070cae66cb049f9fe4fab81d2a6d",
   "a17faffcf8067dee60735153de7293ad",
   "0c7246824d519c52de1043447f24f897",
   "424f7f7df843772d36b0cdb610054d87",
   "0463166824014f6fbb4bc07c3736d0ac",
   "998dd5ce2980adf517ca993e42c3d965",
   "75fd00abac5701d1d5a6a1adf6c89013",
   "3a76d7cce4e9ecdb4fe70737e7879960",
   "c3cd1927f4be9d5787994c7545159e70",
   "cf11ea263021d7007f178f07d657e149",
   "54e5c75bf21e767282ceb82c5402761d",
   "2f43b42fd833d1e77420a8dae7419000",
   "17f64fbb22e6edea8681381d2d5a2440",
   "2f43b42fd833d1e77420a8dae7419000",
   "396345d0af525f363c500f4d50e6850b",
   "f9bd54f7f5343e073421186aa18770ce",
   "b54813ed7ec583305892d3c612072c46"
  ],
  "kernelspec": {
   "display_name": "Python 3 (ipykernel)",
   "language": "python",
   "name": "python3"
  },
  "language_info": {
   "codemirror_mode": {
    "name": "ipython",
    "version": 3
   },
   "file_extension": ".py",
   "mimetype": "text/x-python",
   "name": "python",
   "nbconvert_exporter": "python",
   "pygments_lexer": "ipython3",
   "version": "3.9.15"
  },
  "number_of_pagebreaks": 5
 },
 "nbformat": 4,
 "nbformat_minor": 4
}
