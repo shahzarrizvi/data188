{
 "cells": [
  {
   "cell_type": "code",
   "execution_count": null,
   "metadata": {
    "deletable": false,
    "editable": false,
    "slideshow": {
     "slide_type": ""
    },
    "tags": []
   },
   "outputs": [],
   "source": [
    "from datascience import *\n",
    "from prob140 import *\n",
    "import numpy as np\n",
    "from scipy import stats\n",
    "import matplotlib.pyplot as plt\n",
    "plt.style.use('fivethirtyeight')\n",
    "%matplotlib inline"
   ]
  },
  {
   "cell_type": "code",
   "execution_count": null,
   "metadata": {
    "deletable": false,
    "editable": false
   },
   "outputs": [],
   "source": [
    "def ks_plot(x_interval, sample, null_cdf):\n",
    "    xmin = x_interval[0]\n",
    "    xmax = x_interval[1]\n",
    "    n=len(sample)\n",
    "    sorted_sample = np.sort(sample)\n",
    "    plt.step(sorted_sample, np.arange(1, n+1)/n, where='post', lw=2, \n",
    "             color='red', label='Empirical CDF of Sample')\n",
    "    if sorted_sample.item(0) > xmin:\n",
    "        plt.plot((xmin, sorted_sample.item(0), sorted_sample.item(0)), \n",
    "                 (0, 0, 1/n), lw=2, color='red')\n",
    "    if sorted_sample.item(n-1) < xmax:\n",
    "        plt.plot((sorted_sample.item(n-1), xmax), (1, 1), lw=2, color='red')\n",
    "    x = np.arange(xmin, xmax+0.1, 0.1)\n",
    "    plt.plot(x, null_cdf(x), lw=2, color='darkblue', label='Null CDF')\n",
    "    plt.legend()\n",
    "    print('n =', n);\n",
    "\n",
    "def get_empirical_cdf(sample):\n",
    "    def empirical_cdf(x):\n",
    "        x = np.array(x)\n",
    "        return np.mean(sample <= x.reshape(-1, 1), axis = 1)\n",
    "    return empirical_cdf"
   ]
  },
  {
   "cell_type": "markdown",
   "metadata": {
    "deletable": false,
    "editable": false
   },
   "source": [
    "# Worksheet 8 #"
   ]
  },
  {
   "cell_type": "markdown",
   "metadata": {
    "deletable": false,
    "editable": false
   },
   "source": [
    "## 1. Chi-squared, `chi2`, and `chisquare`\n",
    "\n",
    "**(a)** Recall that the chi-squared distribution with $n$ degrees of freedom is the same as gamma $(n/2, 1/2)$. Find its expectation, variance, and SD. Sometimes the expectation and SD by themselves give you a good sense of whether an observed statistic is consistent with a specified chi-squared distribution, without having to look up tail probabilities."
   ]
  },
  {
   "cell_type": "markdown",
   "metadata": {
    "deletable": false,
    "editable": true,
    "slideshow": {
     "slide_type": ""
    },
    "tags": []
   },
   "source": [
    "*Your answer here.*"
   ]
  },
  {
   "cell_type": "markdown",
   "metadata": {
    "deletable": false,
    "editable": false
   },
   "source": [
    "**(b)** In `stats` within `scipy`, `chi2` works like `norm`, `expon`, etc. For example, `stats.chi2.pdf(x, df=d)` gives you the value of density function of the chi-squared (`d`) distribution at the point or array `x`. Plot the chi-squared $(4)$ density curve. Use Part **(a)** to figure out a good set of values for the horizontal axis."
   ]
  },
  {
   "cell_type": "code",
   "execution_count": null,
   "metadata": {
    "deletable": false,
    "editable": true
   },
   "outputs": [],
   "source": [
    "# Part (b)\n",
    "..."
   ]
  },
  {
   "cell_type": "markdown",
   "metadata": {
    "deletable": false,
    "editable": false,
    "slideshow": {
     "slide_type": ""
    },
    "tags": []
   },
   "source": [
    "**(c)** The [documentation](https://docs.scipy.org/doc/scipy/reference/generated/scipy.stats.chisquare.html) for `stats.chisquare` says, \"The chi-square test tests the null hypothesis that the categorical data has the given frequencies.\" A little more precisely, it tests the null hypothesis that the categorical data are like random draws from the given distribution. \n",
    "\n",
    "US jury panels are supposed to be picked at random from the eligible population. A [Data 8 example](https://inferentialthinking.com/chapters/11/2/Multiple_Categories.html#composition-of-panels-in-alameda-county) provides data on a panel of 1453 potential jurors in Alameda County. We have placed the data in the two arrays below. "
   ]
  },
  {
   "cell_type": "code",
   "execution_count": null,
   "metadata": {
    "deletable": false,
    "editable": false,
    "slideshow": {
     "slide_type": ""
    },
    "tags": []
   },
   "outputs": [],
   "source": [
    "eligible = np.array([0.15, 0.18, 0.54, 0.12, 0.01])\n",
    "panel = np.array([0.26, 0.08, 0.54, 0.08, 0.04])"
   ]
  },
  {
   "cell_type": "markdown",
   "metadata": {
    "deletable": false,
    "editable": false,
    "slideshow": {
     "slide_type": ""
    },
    "tags": []
   },
   "source": [
    "Let's use a chi-squared statistic to assess whether the panel looks like random draws from the eligible population.\n",
    "\n",
    "**(i)** Calculate Pearson's chi-squared statistic directly from the arrays and use Part **(a)** or **(b)** to come to a conclusion."
   ]
  },
  {
   "cell_type": "code",
   "execution_count": null,
   "metadata": {
    "deletable": false,
    "editable": true,
    "slideshow": {
     "slide_type": ""
    },
    "tags": []
   },
   "outputs": [],
   "source": [
    "# Part (c)(i)\n",
    "..."
   ]
  },
  {
   "cell_type": "markdown",
   "metadata": {
    "deletable": false,
    "editable": true,
    "slideshow": {
     "slide_type": ""
    },
    "tags": []
   },
   "source": [
    "*Your answer here.*"
   ]
  },
  {
   "cell_type": "markdown",
   "metadata": {
    "deletable": false,
    "editable": false,
    "slideshow": {
     "slide_type": ""
    },
    "tags": []
   },
   "source": [
    "**(ii)** Now use `stats.chisquare` to perform the test and compare the result with your calculation above. Think about whether you need to use the `ddof` option."
   ]
  },
  {
   "cell_type": "code",
   "execution_count": null,
   "metadata": {
    "deletable": false,
    "editable": true,
    "slideshow": {
     "slide_type": ""
    },
    "tags": []
   },
   "outputs": [],
   "source": [
    "# Part (c)(ii)\n",
    "..."
   ]
  },
  {
   "cell_type": "markdown",
   "metadata": {
    "deletable": false,
    "editable": true,
    "slideshow": {
     "slide_type": ""
    },
    "tags": []
   },
   "source": [
    "*Your answer here.*"
   ]
  },
  {
   "cell_type": "markdown",
   "metadata": {
    "deletable": false,
    "editable": false,
    "slideshow": {
     "slide_type": ""
    },
    "tags": []
   },
   "source": [
    "\\newpage\n",
    "## 2. Degrees of Freedom:  A Simulation Study\n",
    "\n",
    "I don't know a truly convincing heuristic argument for why introducing an estimated parameter in the expected frequencies allows us to still use the chi-squared distribution but with one fewer degree of freedom. The math involves quite a bit of work, so let's check by simulation.\n",
    "\n",
    "**The General Plan**\n",
    "\n",
    "- Let the Poisson parameter be 5.\n",
    "- Do the following multiple times:\n",
    "    - Generate a Poisson (5) dataset of size 500.\n",
    "    - Fit a Poisson distribution to the data as though you didn't know the parameter is 5.\n",
    "    - Calculate the statistic $-2\\log(\\Lambda)$.\n",
    "- Draw the empirical histogram of the simulated statistics and overlay a couple of plausible chi-squared densities.\n",
    "- Identify which of the two chi-squared densities looks more like the underlying distribution of the statistic.\n",
    "\n",
    "Implement the plan in the following steps. In Parts **(a)** through **(e)**, you will simulate one value of the statistic. In the later parts you will repeat the simulation, create the visualization, and pick the right chi-squared curve."
   ]
  },
  {
   "cell_type": "markdown",
   "metadata": {
    "deletable": false,
    "editable": false
   },
   "source": [
    "**(a)** [Generate](https://docs.scipy.org/doc/scipy/reference/generated/scipy.stats.poisson.html) 500 i.i.d. Poisson (5) random numbers in an array `data`. "
   ]
  },
  {
   "cell_type": "code",
   "execution_count": null,
   "metadata": {
    "deletable": false,
    "editable": true
   },
   "outputs": [],
   "source": [
    "# Part (a)\n",
    "np.random.seed(188)\n",
    "..."
   ]
  },
  {
   "cell_type": "markdown",
   "metadata": {
    "deletable": false,
    "editable": false
   },
   "source": [
    "**(b)** Find $\\hat{\\mu}$, the MLE of the parameter."
   ]
  },
  {
   "cell_type": "code",
   "execution_count": null,
   "metadata": {
    "deletable": false,
    "editable": true
   },
   "outputs": [],
   "source": [
    "# Part (b)\n",
    "..."
   ]
  },
  {
   "cell_type": "markdown",
   "metadata": {
    "deletable": false,
    "editable": false
   },
   "source": [
    "**(c)** Create an array `observed` consisting of the observed frequencies in the categories $0, 1, \\ldots, 9$ and $10+$. The last one means \"10 or more\"."
   ]
  },
  {
   "cell_type": "code",
   "execution_count": null,
   "metadata": {
    "deletable": false,
    "editable": true
   },
   "outputs": [],
   "source": [
    "# Part (c)\n",
    "..."
   ]
  },
  {
   "cell_type": "markdown",
   "metadata": {
    "deletable": false,
    "editable": false
   },
   "source": [
    "**(d)** Create an array `expected` consisting of the expected frequencies under the Poisson $(\\hat{\\mu})$ distribution."
   ]
  },
  {
   "cell_type": "code",
   "execution_count": null,
   "metadata": {
    "deletable": false,
    "editable": true
   },
   "outputs": [],
   "source": [
    "# Part (d)\n",
    "..."
   ]
  },
  {
   "cell_type": "markdown",
   "metadata": {
    "deletable": false,
    "editable": false
   },
   "source": [
    "**(e)** Find the simulated value of $-2\\log(\\Lambda)$. Use `np.log` for $\\log$. Also find Pearson's approximation to this statistic."
   ]
  },
  {
   "cell_type": "code",
   "execution_count": null,
   "metadata": {
    "deletable": false,
    "editable": true
   },
   "outputs": [],
   "source": [
    "# Part (e)\n",
    "..."
   ]
  },
  {
   "cell_type": "markdown",
   "metadata": {
    "deletable": false,
    "editable": false,
    "slideshow": {
     "slide_type": ""
    },
    "tags": []
   },
   "source": [
    "**(f)** Collect the code above and create a function `one_simulated_statistic` that takes no arguments, starts by generating 500 i.i.d. Poisson $(5)$ random numbers, fits a Poisson distribution, and returns the value of Pearson's approximation to $-2\\log(\\Lambda)$.\n",
    "\n",
    "Call the function 5000 times and collected the simulated statistics in an array `simulated_stats`. It's a good idea to start with a smaller number of repetitions and check that things are working as they should."
   ]
  },
  {
   "cell_type": "code",
   "execution_count": null,
   "metadata": {
    "deletable": false,
    "editable": true
   },
   "outputs": [],
   "source": [
    "# Part (f)\n",
    "def one_simulated_statistic():\n",
    "    ...\n",
    "    return ...\n",
    "\n",
    "np.random.seed(188)\n",
    "..."
   ]
  },
  {
   "cell_type": "markdown",
   "metadata": {
    "deletable": false,
    "editable": false
   },
   "source": [
    "**(g)** Draw the empirical histogram of the simulated statistics, using bins of width 1 from 0 to 30. Overlay the only two reasonable chi-squared densities that we might want to use in this setting. Which one is better?"
   ]
  },
  {
   "cell_type": "code",
   "execution_count": null,
   "metadata": {
    "deletable": false,
    "editable": true
   },
   "outputs": [],
   "source": [
    "# Part (g)\n",
    "..."
   ]
  },
  {
   "cell_type": "markdown",
   "metadata": {
    "deletable": false,
    "slideshow": {
     "slide_type": ""
    },
    "tags": []
   },
   "source": [
    "*Your answer here.*"
   ]
  },
  {
   "cell_type": "markdown",
   "metadata": {
    "deletable": false,
    "editable": false,
    "slideshow": {
     "slide_type": ""
    },
    "tags": []
   },
   "source": [
    "**(h)** If we just pretended the expected frequencies were known before drawing the sample, then we would have used one of these curves. But we are estimating the expected frequencies from the data. Explain why that is pushing the distribution of the statistic in the direction that you see. You are welcome to use Pearson's form of the statistic if that helps. If you need, you may use the code cell below for any calculations."
   ]
  },
  {
   "cell_type": "code",
   "execution_count": null,
   "metadata": {
    "deletable": false,
    "editable": true,
    "slideshow": {
     "slide_type": ""
    },
    "tags": []
   },
   "outputs": [],
   "source": [
    "# Calculations for Part (h)\n",
    "..."
   ]
  },
  {
   "cell_type": "markdown",
   "metadata": {
    "deletable": false,
    "slideshow": {
     "slide_type": ""
    },
    "tags": []
   },
   "source": [
    "*Your answer here.*"
   ]
  },
  {
   "cell_type": "markdown",
   "metadata": {
    "deletable": false,
    "editable": false
   },
   "source": [
    "\\newpage\n",
    "## 3. Test for Uniformity\n",
    "In this exercise, you will use data $X_1, \\ldots, X_n$ drawn from an unknown cdf $F_X$ to test whether the underlying cdf $F_X$ could be the same as the uniform cdf $F_U$. "
   ]
  },
  {
   "cell_type": "markdown",
   "metadata": {
    "deletable": false,
    "editable": false
   },
   "source": [
    "**(a)** First, we'll look at the empirical and null cdfs of the uniform distribution.\n",
    "\n",
    "The function `ks_plot` takes three arguments:\n",
    "\n",
    "- `x_interval`: a list `[xmin, xmax]` consisting of the endpoints of the interval over which to draw the graphs;\n",
    "- `sample`: the sample;\n",
    "- `null_cdf`: a callable (for example, a function name) that takes an array `x` and returns the values of a specified cdf at the elements of `x`.\n",
    "\n",
    "It draws a graph of the empirical cdf of the sample overlaid on the specified null cdf.\n",
    "\n",
    "Run the cell below to see the empirical cdf of the sample $U_1, U_2, \\ldots, U_{10}$ which are i.i.d uniform on $(0, 1)$ and the cdf of the uniform $(0, 1)$ distribution. \n",
    "\n",
    "Run the cell a few times. Each time, check that the empirical cdf rises by $1/10$ at each order statistic of the sample."
   ]
  },
  {
   "cell_type": "code",
   "execution_count": null,
   "metadata": {
    "deletable": false,
    "editable": false,
    "slideshow": {
     "slide_type": ""
    },
    "tags": []
   },
   "outputs": [],
   "source": [
    "ks_plot([0, 1], stats.uniform.rvs(size = 10), stats.uniform.cdf)"
   ]
  },
  {
   "cell_type": "markdown",
   "metadata": {
    "deletable": false,
    "editable": false
   },
   "source": [
    "Now increase the sample size to 100. What do you observe?"
   ]
  },
  {
   "cell_type": "code",
   "execution_count": null,
   "metadata": {
    "deletable": false,
    "editable": true
   },
   "outputs": [],
   "source": [
    "# Part (a)\n",
    "..."
   ]
  },
  {
   "cell_type": "markdown",
   "metadata": {
    "deletable": false,
    "editable": true
   },
   "source": [
    "*Your answer here.*"
   ]
  },
  {
   "cell_type": "markdown",
   "metadata": {
    "deletable": false,
    "editable": false
   },
   "source": [
    "**(b)** The file `unknown_sample.npy` contains a sample drawn from an unknown cdf. We will test whether the sample is drawn from the uniform distribution or some other distribution. \n",
    "\n",
    "**(i)** Load the sample and plot its empirical cdf as well as the uniform $(0, 1)$ cdf."
   ]
  },
  {
   "cell_type": "code",
   "execution_count": null,
   "metadata": {
    "deletable": false,
    "editable": true
   },
   "outputs": [],
   "source": [
    "# Part (b)(i)\n",
    "unknown_sample = np.load('unknown_sample.npy')\n",
    "..."
   ]
  },
  {
   "cell_type": "markdown",
   "metadata": {
    "deletable": false,
    "editable": false
   },
   "source": [
    "**(ii)** Estimate the Kolmogorov-Smirnov distance by eye. If you perform the Kolmogorov-Smirnov test of whether or not the sample `unknown_sample` is drawn from the uniform $(0, 1)$ distribution, should the $p$ value be large or small? Explain."
   ]
  },
  {
   "cell_type": "markdown",
   "metadata": {
    "deletable": false,
    "editable": true
   },
   "source": [
    "*Your answer here.*"
   ]
  },
  {
   "cell_type": "markdown",
   "metadata": {
    "deletable": false,
    "editable": false,
    "slideshow": {
     "slide_type": ""
    },
    "tags": []
   },
   "source": [
    "**(c)** Let's do the test.\n",
    "\n",
    "In general, the data $X_1, X_2, \\ldots, X_n$ are assumed to be i.i.d. with cdf $F_X$. We test the two hypotheses:\n",
    "\n",
    "- $H_0$: $F_X = F$ where $F$ is a specified cdf.\n",
    "- $H_1$: $F_X \\neq F$.\n",
    "\n",
    "To perform the test, use the `stats` function `kstest`. It takes two arguments:\n",
    "\n",
    "- `rvs`: the sample\n",
    "- `cdf`: a callable that specifies the null cdf\n",
    "\n",
    "Run the cell below to test whether your sample `unknown_sample` is drawn from the uniform $(0, 1)$ distribution. The results should be self-explanatory.\n"
   ]
  },
  {
   "cell_type": "code",
   "execution_count": null,
   "metadata": {
    "deletable": false,
    "editable": false,
    "slideshow": {
     "slide_type": ""
    },
    "tags": []
   },
   "outputs": [],
   "source": [
    "stats.kstest(unknown_sample, stats.uniform.cdf)"
   ]
  },
  {
   "cell_type": "markdown",
   "metadata": {
    "deletable": false,
    "editable": false
   },
   "source": [
    "Is the value of the statistic fairly close to what you estimated by eye? Is the $p$ value consistent with your answer to Part **(b)(ii)**?"
   ]
  },
  {
   "cell_type": "markdown",
   "metadata": {
    "deletable": false,
    "editable": true
   },
   "source": [
    "*Your answer here.*"
   ]
  },
  {
   "cell_type": "markdown",
   "metadata": {
    "deletable": false,
    "editable": false
   },
   "source": [
    "\\newpage\n",
    "## 4. Test for a Gamma Distribution\n",
    "\n",
    "Now you'll give the Kolmogorov-Smirnov test more of a workout. The goal is to test whether data come from the gamma $(2, 1)$ distribution. "
   ]
  },
  {
   "cell_type": "markdown",
   "metadata": {
    "deletable": false,
    "editable": false
   },
   "source": [
    "**(a)** We'll start by defining the null cdf.\n",
    "\n",
    "**(i)** Complete the function `gamma_2_1_cdf` below which takes an array `x` and returns the gamma $(2, 1)$ cdf at `x`. It's fine to assume that all the elements of `x` are positive.\n",
    "\n",
    "Keep in mind that in the `stats.gamma` functions, the option for the shape parameter is called `a`. The `scale` parameter is $1/\\lambda$ where $\\lambda$ is the rate."
   ]
  },
  {
   "cell_type": "code",
   "execution_count": null,
   "metadata": {
    "deletable": false,
    "editable": true
   },
   "outputs": [],
   "source": [
    "# Part (a)\n",
    "def gamma_2_1_cdf(x):\n",
    "    return ..."
   ]
  },
  {
   "cell_type": "markdown",
   "metadata": {
    "deletable": false,
    "editable": false
   },
   "source": [
    "**(ii)** To help decide a good interval over which to draw the plots, find the following for a random variable $X$ that has the gamma $(2, 1)$ distribution:\n",
    "\n",
    "- $E(X)$\n",
    "- $SD(X)$\n",
    "\n",
    "Use these values to choose a plotting interval for the plots you'll make later in this question. You might have to come back later and adjust the right end point. That's fine."
   ]
  },
  {
   "cell_type": "code",
   "execution_count": null,
   "metadata": {
    "deletable": false,
    "editable": true
   },
   "outputs": [],
   "source": [
    "# Calculations for Part (a)(ii)\n",
    "..."
   ]
  },
  {
   "cell_type": "markdown",
   "metadata": {
    "deletable": false,
    "editable": true
   },
   "source": [
    "*Your answer here.*"
   ]
  },
  {
   "cell_type": "markdown",
   "metadata": {
    "deletable": false,
    "editable": false,
    "slideshow": {
     "slide_type": ""
    },
    "tags": []
   },
   "source": [
    "**(b)** We'll use data $X_1, \\ldots, X_n$ which are actually exponentially distributed.\n",
    "\n",
    "**(i)** Generate an array `expon_1_sample` consisting of 20 i.i.d. exponential $(1)$ observations."
   ]
  },
  {
   "cell_type": "code",
   "execution_count": null,
   "metadata": {
    "deletable": false,
    "editable": true,
    "slideshow": {
     "slide_type": ""
    },
    "tags": []
   },
   "outputs": [],
   "source": [
    "# Part (b)(i)\n",
    "np.random.seed(188)\n",
    "expon_1_sample = ..."
   ]
  },
  {
   "cell_type": "markdown",
   "metadata": {
    "deletable": false,
    "editable": false
   },
   "source": [
    "**(ii)** Plot the empirical cdf of `expon_1_sample` and the gamma $(2, 1)$ cdf. Is one of the two distributions stochastically smaller than the other? If so, which one, and why?"
   ]
  },
  {
   "cell_type": "code",
   "execution_count": null,
   "metadata": {
    "deletable": false,
    "editable": true
   },
   "outputs": [],
   "source": [
    "# Part (b)(ii)\n",
    "..."
   ]
  },
  {
   "cell_type": "markdown",
   "metadata": {
    "deletable": false,
    "editable": true
   },
   "source": [
    "*Your answer here.*"
   ]
  },
  {
   "cell_type": "markdown",
   "metadata": {
    "deletable": false,
    "editable": false,
    "slideshow": {
     "slide_type": ""
    },
    "tags": []
   },
   "source": [
    "**(iii)** Should the $p$ value be large or small? Explain."
   ]
  },
  {
   "cell_type": "markdown",
   "metadata": {
    "deletable": false,
    "editable": true,
    "slideshow": {
     "slide_type": ""
    },
    "tags": []
   },
   "source": [
    "*Your answer here.*"
   ]
  },
  {
   "cell_type": "markdown",
   "metadata": {
    "deletable": false,
    "editable": false,
    "slideshow": {
     "slide_type": ""
    },
    "tags": []
   },
   "source": [
    "**(c)** Perform the Kolmogorov-Smirnov test of whether or not `expon_1_sample` is drawn from the gamma $(2, 1)$ distribution. Is the $p$ value consistent with your answer to **(b)(iii)**?"
   ]
  },
  {
   "cell_type": "code",
   "execution_count": null,
   "metadata": {
    "deletable": false,
    "editable": true
   },
   "outputs": [],
   "source": [
    "# Part (c)\n",
    "..."
   ]
  },
  {
   "cell_type": "markdown",
   "metadata": {
    "deletable": false,
    "editable": true
   },
   "source": [
    "*Your answer here.*"
   ]
  },
  {
   "cell_type": "markdown",
   "metadata": {
    "deletable": false,
    "editable": false
   },
   "source": [
    "\\newpage\n",
    "## 5. A Closer Call\n",
    "The test in Exercise 4 is still a bit silly because the exponential $(1)$ distribution has a mean of $1$ unlike the gamma $(2, 1)$ distribution. Let's see what happens when the sample comes from an exponential distribution with the same mean as the gamma $(2, 1)$ distribution."
   ]
  },
  {
   "cell_type": "markdown",
   "metadata": {
    "deletable": false,
    "editable": false
   },
   "source": [
    "**(a)** Generate an array `expon_new_20` consisting of 20 i.i.d. observations from an exponential distribution with the same mean as the gamma $(2, 1)$."
   ]
  },
  {
   "cell_type": "code",
   "execution_count": null,
   "metadata": {
    "deletable": false,
    "editable": true
   },
   "outputs": [],
   "source": [
    "# Part (a)\n",
    "np.random.seed(188)\n",
    "expon_new_20 = ..."
   ]
  },
  {
   "cell_type": "markdown",
   "metadata": {
    "deletable": false,
    "editable": false
   },
   "source": [
    "**(b)** Plot the empiricial cdf of `expon_new_20` and the gamma $(2, 1)$ cdf. Based on your graph, do you think the Kolmogorov-Smirnov test will be able to reach the correct conclusion? "
   ]
  },
  {
   "cell_type": "code",
   "execution_count": null,
   "metadata": {
    "deletable": false,
    "editable": true
   },
   "outputs": [],
   "source": [
    "# Part (b)\n",
    "..."
   ]
  },
  {
   "cell_type": "markdown",
   "metadata": {
    "deletable": false,
    "editable": true
   },
   "source": [
    "*Your answer here.*"
   ]
  },
  {
   "cell_type": "markdown",
   "metadata": {
    "deletable": false,
    "editable": false
   },
   "source": [
    "**(c)** Perform the test of whether or not `expon_new_20` is drawn from the gamma $(2, 1)$ distribution. What does the test conclude?"
   ]
  },
  {
   "cell_type": "code",
   "execution_count": null,
   "metadata": {
    "deletable": false,
    "editable": true
   },
   "outputs": [],
   "source": [
    "# Part (c)\n",
    "..."
   ]
  },
  {
   "cell_type": "markdown",
   "metadata": {
    "deletable": false,
    "editable": true
   },
   "source": [
    "*Your answer here.*"
   ]
  },
  {
   "cell_type": "markdown",
   "metadata": {
    "deletable": false,
    "editable": false
   },
   "source": [
    "**(d)** In this part we'll look at what happens if we have more data. \n",
    "\n",
    "**(i)** Generate an array `expon_new_200` consisting of 200 i.i.d. observations from the same distribution as `expon_new_20`."
   ]
  },
  {
   "cell_type": "code",
   "execution_count": null,
   "metadata": {
    "deletable": false,
    "editable": true
   },
   "outputs": [],
   "source": [
    "# Part (d)(i)\n",
    "np.random.seed(188)\n",
    "expon_new_200 = ..."
   ]
  },
  {
   "cell_type": "markdown",
   "metadata": {
    "deletable": false,
    "editable": false
   },
   "source": [
    "**(ii)** Plot the empirical distribution of `expon_new_200` and the gamma $(2, 1)$ cdf. Based on your graph, do you think the Kolmogorov-Smirnov test will be able to reach the correct conclusion? "
   ]
  },
  {
   "cell_type": "code",
   "execution_count": null,
   "metadata": {
    "deletable": false,
    "editable": true
   },
   "outputs": [],
   "source": [
    "# Part (d)(ii)\n",
    "..."
   ]
  },
  {
   "cell_type": "markdown",
   "metadata": {
    "deletable": false,
    "editable": true
   },
   "source": [
    "*Your answer here.*"
   ]
  },
  {
   "cell_type": "markdown",
   "metadata": {
    "deletable": false,
    "editable": false
   },
   "source": [
    "**(iii)** Perform the test of whether or not `expon_new_200` is drawn from the gamma $(2, 1)$ distribution. What does the test conclude?"
   ]
  },
  {
   "cell_type": "code",
   "execution_count": null,
   "metadata": {
    "deletable": false,
    "editable": true
   },
   "outputs": [],
   "source": [
    "# Part (d)(iii)\n",
    "..."
   ]
  },
  {
   "cell_type": "markdown",
   "metadata": {
    "deletable": false,
    "editable": true
   },
   "source": [
    "*Your answer here.*"
   ]
  },
  {
   "cell_type": "markdown",
   "metadata": {
    "deletable": false,
    "editable": false,
    "slideshow": {
     "slide_type": ""
    },
    "tags": []
   },
   "source": [
    "\\newpage\n",
    "## 6. Simulating the Kolmogorov-Smirnov Distance\n",
    "In this exercise, we'll revisit Exercise 3. As a reminder, we have data $X_1, \\ldots, X_{10}$ (stored in `unknown_sample`) which are assumed to be i.i.d. with cdf $F_X$. We wish to test the following hypotheses:\n",
    "- $H_0$: $F_X = F_U$, for $F_U$ the cdf of the uniform $(0, 1)$ distribution.\n",
    "- $H_1$: $F_X \\neq F_U$.\n",
    "\n",
    "In Exercise 3, we used the `stats` function `kstest` to compute the $p$ value of our test. In this exercise, we'll instead compute the $p$ value by simulating the distribution of the Kolmogorov-Smirnov distance (which is related to the [Kolmogorov distribution](https://en.wikipedia.org/wiki/Kolmogorov%E2%80%93Smirnov_test#Kolmogorov_distribution))."
   ]
  },
  {
   "cell_type": "markdown",
   "metadata": {
    "deletable": false,
    "editable": false,
    "slideshow": {
     "slide_type": ""
    },
    "tags": []
   },
   "source": [
    "**(a)** The function `get_empirical_cdf` takes in an argument `sample` and returns the empirical cdf of the sample. Recall that the empirical cdf of a sample $X_1, \\ldots, X_n$ is given by \n",
    "$$F_n(x) = \\frac{1}{n} \\sum_{i=1}^n I(X_i \\le x).$$\n",
    "The code below generates a sample, uses `get_empirical_cdf` to get the sample's empirical cdf, and then computes the Kolmogorov-Smirnov distance between the null cdf $F_U$ and the empirical cdf $F_n$ by searching over the possible values.\n",
    "\n",
    "Run the cell below many times. What do you observe? How can we characterize the location (in particular the possible value) where the Kolmogorov-Smirnov distance is maximized?"
   ]
  },
  {
   "cell_type": "code",
   "execution_count": null,
   "metadata": {
    "deletable": false,
    "editable": false,
    "slideshow": {
     "slide_type": ""
    },
    "tags": []
   },
   "outputs": [],
   "source": [
    "# Generate a sample and get its empirical cdf.\n",
    "sample = stats.uniform.rvs(size = 10)\n",
    "sample_ecdf = get_empirical_cdf(sample)\n",
    "\n",
    "# Approximate the value at which the Kolmogorov-Smirnov distance is maximized by \n",
    "# searching over the possible values.\n",
    "xs = np.linspace(0, 1, 1001)\n",
    "distances = abs(sample_ecdf(xs) - stats.uniform.cdf(xs))\n",
    "x_max = xs[np.argmax(distances)]\n",
    "y_max = sample_ecdf(x_max)\n",
    "\n",
    "# Plot the empirical cdf, the null cdf, and the point at which the \n",
    "# Kolmogorov-Smirnov distance is maximized.\n",
    "ks_plot([0, 1], sample, stats.uniform.cdf)\n",
    "plt.scatter(x_max, y_max, zorder = 2, c = 'k')"
   ]
  },
  {
   "cell_type": "markdown",
   "metadata": {
    "deletable": false,
    "editable": true
   },
   "source": [
    "*Your answer here.*"
   ]
  },
  {
   "cell_type": "markdown",
   "metadata": {
    "deletable": false,
    "editable": false
   },
   "source": [
    "**(b)** Let's compute the observed Kolmogorov-Smirnov distance of the sample `unknown_sample` from Exercise 3.\n",
    "\n",
    "**(i)** Use `get_empirical_cdf` to assign `empirical_cdf` to the empirical cdf of the `unknown_sample` sample."
   ]
  },
  {
   "cell_type": "code",
   "execution_count": null,
   "metadata": {
    "deletable": false,
    "editable": true
   },
   "outputs": [],
   "source": [
    "# Part (b)(i)\n",
    "empirical_cdf = ..."
   ]
  },
  {
   "cell_type": "markdown",
   "metadata": {
    "deletable": false,
    "editable": false
   },
   "source": [
    "**(ii)** Use your observation from Part **(a)** to compute the observed Kolmogorov-Smirnov distance of `unknown_sample` *exactly*. Unlike the search computation from Part **(a)**, your calculation should be exact. You may use as many lines as you need."
   ]
  },
  {
   "cell_type": "code",
   "execution_count": null,
   "metadata": {
    "deletable": false,
    "editable": true
   },
   "outputs": [],
   "source": [
    "# Part (b)(ii)\n",
    "...\n",
    "observed_KS_distance = ..."
   ]
  },
  {
   "cell_type": "markdown",
   "metadata": {
    "deletable": false,
    "editable": false,
    "slideshow": {
     "slide_type": ""
    },
    "tags": []
   },
   "source": [
    "**(c)** Complete the function `one_null_KS_distance` which simulates one draw from the distribution of the Kolmogorov-Smirnov distance under the null hypothesis. As in Part **(b)**, your calculations should be exact.\n",
    "\n"
   ]
  },
  {
   "cell_type": "code",
   "execution_count": null,
   "metadata": {
    "deletable": false,
    "editable": true
   },
   "outputs": [],
   "source": [
    "# Part (c)\n",
    "def one_null_KS_distance():\n",
    "    ...\n",
    "    return ..."
   ]
  },
  {
   "cell_type": "markdown",
   "metadata": {
    "deletable": false,
    "editable": false,
    "slideshow": {
     "slide_type": ""
    },
    "tags": []
   },
   "source": [
    "**(d)** Now we sample repeatedly from the distribution of the Kolmogorov-Smirnov statistic under the null distribution to approximate it empirically.\n",
    "\n",
    "**(i)** Use your function from Part **(c)** to simulate 50,000 draws from the distribution of the Kolmogorov-Smirnov distance under the null hypothesis. "
   ]
  },
  {
   "cell_type": "code",
   "execution_count": null,
   "metadata": {
    "deletable": false,
    "editable": true
   },
   "outputs": [],
   "source": [
    "# Part (d)(i)\n",
    "np.random.seed(188)\n",
    "..."
   ]
  },
  {
   "cell_type": "markdown",
   "metadata": {
    "deletable": false,
    "editable": false,
    "slideshow": {
     "slide_type": ""
    },
    "tags": []
   },
   "source": [
    "**(ii)** Draw the empirical histogram of all the simulated values."
   ]
  },
  {
   "cell_type": "code",
   "execution_count": null,
   "metadata": {
    "deletable": false,
    "editable": true
   },
   "outputs": [],
   "source": [
    "# Part (d)(ii)\n",
    "..."
   ]
  },
  {
   "cell_type": "markdown",
   "metadata": {
    "deletable": false,
    "editable": false,
    "slideshow": {
     "slide_type": ""
    },
    "tags": []
   },
   "source": [
    "**(e)** Approximate the $p$ value of the Kolmogorov-Smirnov test. Compare it with the $p$ value computed using the `kstest` function in Exercise 3."
   ]
  },
  {
   "cell_type": "code",
   "execution_count": null,
   "metadata": {
    "deletable": false,
    "editable": true,
    "slideshow": {
     "slide_type": ""
    },
    "tags": []
   },
   "outputs": [],
   "source": [
    "# Part (e)\n",
    "..."
   ]
  },
  {
   "cell_type": "markdown",
   "metadata": {
    "deletable": false,
    "editable": true
   },
   "source": [
    "*Your answer here.*"
   ]
  }
 ],
 "metadata": {
  "kernelspec": {
   "display_name": "Python 3 (ipykernel)",
   "language": "python",
   "name": "python3"
  },
  "language_info": {
   "codemirror_mode": {
    "name": "ipython",
    "version": 3
   },
   "file_extension": ".py",
   "mimetype": "text/x-python",
   "name": "python",
   "nbconvert_exporter": "python",
   "pygments_lexer": "ipython3",
   "version": "3.9.15"
  }
 },
 "nbformat": 4,
 "nbformat_minor": 4
}
