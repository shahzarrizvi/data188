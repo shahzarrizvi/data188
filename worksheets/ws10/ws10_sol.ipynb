{
 "cells": [
  {
   "cell_type": "code",
   "execution_count": 1,
   "metadata": {},
   "outputs": [],
   "source": [
    "from datascience import *\n",
    "from prob140 import *\n",
    "import numpy as np\n",
    "from scipy import stats\n",
    "import matplotlib.pyplot as plt\n",
    "#plt.style.use('fivethirtyeight')\n",
    "%matplotlib inline\n",
    "import seaborn as sns"
   ]
  },
  {
   "cell_type": "markdown",
   "metadata": {},
   "source": [
    "### Data 188 Spring 2024\n",
    "### A. Adhikari\n",
    "\n",
    "# Worksheet Week 12"
   ]
  },
  {
   "cell_type": "markdown",
   "metadata": {},
   "source": [
    "## 1. One-way ANOVA\n",
    "The data consist of a random sample of 400 home sales in a part of Ohio over the period 2006 to 2010. For your convenience, we have placed the data in a `Table` called `sales` as well as in a `pandas` dataframe called `df_sales`."
   ]
  },
  {
   "cell_type": "code",
   "execution_count": 3,
   "metadata": {},
   "outputs": [],
   "source": [
    "sales = Table.read_table('sales.csv')\n",
    "df_sales = sales.to_df()"
   ]
  },
  {
   "cell_type": "code",
   "execution_count": 4,
   "metadata": {},
   "outputs": [
    {
     "data": {
      "text/plain": [
       "(400, 5)"
      ]
     },
     "execution_count": 4,
     "metadata": {},
     "output_type": "execute_result"
    }
   ],
   "source": [
    "df_sales.shape"
   ]
  },
  {
   "cell_type": "code",
   "execution_count": 5,
   "metadata": {},
   "outputs": [
    {
     "data": {
      "text/html": [
       "<div>\n",
       "<style scoped>\n",
       "    .dataframe tbody tr th:only-of-type {\n",
       "        vertical-align: middle;\n",
       "    }\n",
       "\n",
       "    .dataframe tbody tr th {\n",
       "        vertical-align: top;\n",
       "    }\n",
       "\n",
       "    .dataframe thead th {\n",
       "        text-align: right;\n",
       "    }\n",
       "</style>\n",
       "<table border=\"1\" class=\"dataframe\">\n",
       "  <thead>\n",
       "    <tr style=\"text-align: right;\">\n",
       "      <th></th>\n",
       "      <th>Build Period</th>\n",
       "      <th>Lot Area</th>\n",
       "      <th>House Area</th>\n",
       "      <th>Year Sold</th>\n",
       "      <th>Sale Price</th>\n",
       "    </tr>\n",
       "  </thead>\n",
       "  <tbody>\n",
       "    <tr>\n",
       "      <th>0</th>\n",
       "      <td>1960-1979</td>\n",
       "      <td>12493</td>\n",
       "      <td>2867.0</td>\n",
       "      <td>2008</td>\n",
       "      <td>141000</td>\n",
       "    </tr>\n",
       "    <tr>\n",
       "      <th>1</th>\n",
       "      <td>Pre 1940</td>\n",
       "      <td>13728</td>\n",
       "      <td>3775.0</td>\n",
       "      <td>2008</td>\n",
       "      <td>235000</td>\n",
       "    </tr>\n",
       "    <tr>\n",
       "      <th>2</th>\n",
       "      <td>1960-1979</td>\n",
       "      <td>10710</td>\n",
       "      <td>2802.0</td>\n",
       "      <td>2009</td>\n",
       "      <td>148800</td>\n",
       "    </tr>\n",
       "  </tbody>\n",
       "</table>\n",
       "</div>"
      ],
      "text/plain": [
       "  Build Period  Lot Area  House Area  Year Sold  Sale Price\n",
       "0    1960-1979     12493      2867.0       2008      141000\n",
       "1     Pre 1940     13728      3775.0       2008      235000\n",
       "2    1960-1979     10710      2802.0       2009      148800"
      ]
     },
     "execution_count": 5,
     "metadata": {},
     "output_type": "execute_result"
    }
   ],
   "source": [
    "df_sales.head(3)"
   ]
  },
  {
   "cell_type": "markdown",
   "metadata": {},
   "source": [
    "Each row represents a sale. The columns:\n",
    "\n",
    "- `Build Period`: The period in which the house was built. `'2000+'` means \"Year 2000 or later\".\n",
    "- `Lot Area`: Area of the lot in square feet\n",
    "- `House Area`: Total area of the house in square feet, including garages, decks, etc.\n",
    "- `Year Sold`: Self-explanatory\n",
    "- `Sale Price`: In dollars as at the time of sale; not adjusted"
   ]
  },
  {
   "cell_type": "markdown",
   "metadata": {},
   "source": [
    "### 1a) Comparing Lot Area Distributions\n",
    "\n",
    "We will compare the distributions of lot areas for the different build periods."
   ]
  },
  {
   "cell_type": "markdown",
   "metadata": {},
   "source": [
    "**(i)** Draw a [boxplot](https://seaborn.pydata.org/generated/seaborn.boxplot.html) of the all distributions. Since the build periods have a chronological order, we recommend using the option `order=chron_order` with `sns.boxplot`, for the list `chron_order` created in the cell below."
   ]
  },
  {
   "cell_type": "code",
   "execution_count": 6,
   "metadata": {},
   "outputs": [],
   "source": [
    "chron_order = ['Pre 1940', '1940-1959', '1960-1979', '1980-1999', '2000+']"
   ]
  },
  {
   "cell_type": "code",
   "execution_count": null,
   "metadata": {},
   "outputs": [],
   "source": [
    "#student\n",
    "sns.boxplot(...)"
   ]
  },
  {
   "cell_type": "code",
   "execution_count": 7,
   "metadata": {},
   "outputs": [
    {
     "data": {
      "image/png": "[encoded data removed]",
      "text/plain": [
       "<Figure size 432x288 with 1 Axes>"
      ]
     },
     "metadata": {
      "needs_background": "light"
     },
     "output_type": "display_data"
    }
   ],
   "source": [
    "#solution\n",
    "sns.boxplot(data=df_sales, x='Build Period', y='Lot Area', order=chron_order);"
   ]
  },
  {
   "cell_type": "markdown",
   "metadata": {},
   "source": [
    "Find the observed group means. The `group` method with the table `sales` will be useful, or you can use `groupby` on `df_sales` if you prefer `pandas`. You are welcome to display the group means in any format."
   ]
  },
  {
   "cell_type": "code",
   "execution_count": null,
   "metadata": {},
   "outputs": [],
   "source": [
    "..."
   ]
  },
  {
   "cell_type": "markdown",
   "metadata": {},
   "source": [
    "With the groups as the build periods, state the one-way ANOVA model for lot areas. In what ways is the boxplot consistent or inconsistent with the model? Discuss."
   ]
  },
  {
   "cell_type": "markdown",
   "metadata": {},
   "source": [
    "#student\n",
    "\n",
    "**Your answer here:**"
   ]
  },
  {
   "cell_type": "markdown",
   "metadata": {},
   "source": [
    "### 1b) One-way ANOVA in `SciPy`\n",
    "\n",
    "No model is perfect. We are going to start by using the one-way ANOVA model above, in spite of its imperfections. \n",
    "\n",
    "State the null hypothesis that all the group means are equal, in terms of the one-way ANOVA model you stated above."
   ]
  },
  {
   "cell_type": "markdown",
   "metadata": {},
   "source": [
    "#student\n",
    "\n",
    "**Your answer here:**"
   ]
  },
  {
   "cell_type": "markdown",
   "metadata": {},
   "source": [
    "To test this null hypothesis, start by creating the samples of lot sizes in each group. You are welcome to store the group samples in any form as long as you can access each sample easily. Use as many lines and cells as you need."
   ]
  },
  {
   "cell_type": "code",
   "execution_count": 9,
   "metadata": {},
   "outputs": [],
   "source": [
    "lots = sales.select('Build Period', 'Lot Area')"
   ]
  },
  {
   "cell_type": "code",
   "execution_count": null,
   "metadata": {},
   "outputs": [],
   "source": [
    "#student\n"
   ]
  },
  {
   "cell_type": "code",
   "execution_count": 10,
   "metadata": {},
   "outputs": [
    {
     "data": {
      "text/html": [
       "<table border=\"1\" class=\"dataframe\">\n",
       "    <thead>\n",
       "        <tr>\n",
       "            <th>Build Period</th> <th>Lot Area list</th>\n",
       "        </tr>\n",
       "    </thead>\n",
       "    <tbody>\n",
       "        <tr>\n",
       "            <td>1940-1959   </td> <td>[17755, 5400, 8212, 10050, 14175, 7150, 7535, 9600, 8000 ...</td>\n",
       "        </tr>\n",
       "        <tr>\n",
       "            <td>1960-1979   </td> <td>[12493, 10710, 10768, 11327, 8125, 7931, 6897, 10400, 77 ...</td>\n",
       "        </tr>\n",
       "        <tr>\n",
       "            <td>1980-1999   </td> <td>[8480, 10380, 10437, 10859, 7937, 14311, 20544, 10778, 1 ...</td>\n",
       "        </tr>\n",
       "        <tr>\n",
       "            <td>2000+       </td> <td>[8470, 11923, 12552, 9196, 7162, 10420, 9591, 9967, 1092 ...</td>\n",
       "        </tr>\n",
       "        <tr>\n",
       "            <td>Pre 1940    </td> <td>[13728, 11672, 6120, 6000, 21780, 6240, 5142, 7518, 7008 ...</td>\n",
       "        </tr>\n",
       "    </tbody>\n",
       "</table>"
      ],
      "text/plain": [
       "Build Period | Lot Area list\n",
       "1940-1959    | [17755, 5400, 8212, 10050, 14175, 7150, 7535, 9600, 8000 ...\n",
       "1960-1979    | [12493, 10710, 10768, 11327, 8125, 7931, 6897, 10400, 77 ...\n",
       "1980-1999    | [8480, 10380, 10437, 10859, 7937, 14311, 20544, 10778, 1 ...\n",
       "2000+        | [8470, 11923, 12552, 9196, 7162, 10420, 9591, 9967, 1092 ...\n",
       "Pre 1940     | [13728, 11672, 6120, 6000, 21780, 6240, 5142, 7518, 7008 ..."
      ]
     },
     "execution_count": 10,
     "metadata": {},
     "output_type": "execute_result"
    }
   ],
   "source": [
    "#solution\n",
    "lots.group(0, list)"
   ]
  },
  {
   "cell_type": "code",
   "execution_count": 11,
   "metadata": {},
   "outputs": [],
   "source": [
    "#solution\n",
    "grouped = lots.group(0, list).column(1)"
   ]
  },
  {
   "cell_type": "markdown",
   "metadata": {},
   "source": [
    "Now use `stats.f_oneway` to conduct the $F$-test of the null hypothesis. It takes the group samples as arguments, each as a separate array or list, as in `stats.f_oneway(gr1_sample, gr2_sample, gr3_sample)` when there are 3 groups."
   ]
  },
  {
   "cell_type": "code",
   "execution_count": null,
   "metadata": {},
   "outputs": [],
   "source": [
    "#student\n",
    "\n",
    "stats.f_oneway(...)"
   ]
  },
  {
   "cell_type": "code",
   "execution_count": 12,
   "metadata": {},
   "outputs": [
    {
     "data": {
      "text/plain": [
       "F_onewayResult(statistic=3.447462850721599, pvalue=0.008730051137522605)"
      ]
     },
     "execution_count": 12,
     "metadata": {},
     "output_type": "execute_result"
    }
   ],
   "source": [
    "#solution\n",
    "\n",
    "stats.f_oneway(grouped[0], grouped[1], grouped[2], grouped[3], grouped[4])"
   ]
  },
  {
   "cell_type": "markdown",
   "metadata": {},
   "source": [
    "What is the conclusion of the test?"
   ]
  },
  {
   "cell_type": "markdown",
   "metadata": {},
   "source": [
    "#student\n",
    "\n",
    "**Your answer here:**"
   ]
  },
  {
   "cell_type": "markdown",
   "metadata": {},
   "source": [
    "### 1c) The Test Statistic, Without `SciPy`\n",
    "\n",
    "Use the steps below to calculate the $F$-statistic without using `SciPy` and check that you get the same result as above."
   ]
  },
  {
   "cell_type": "code",
   "execution_count": 13,
   "metadata": {},
   "outputs": [],
   "source": [
    "n = 400\n",
    "y = sales.column('Lot Area')"
   ]
  },
  {
   "cell_type": "markdown",
   "metadata": {},
   "source": [
    "Refer to the notation used in seminar. Recall that the total sum of squares is defined as \n",
    "\n",
    "$$SST = \\sum_{g=1}^G \\sum_{i=1}^{n_g} (Y_{gi} - \\bar{Y}_{\\cdot\\cdot})^2$$\n",
    "\n",
    "and that the \"within groups\" sum of squares is defined by \n",
    "\n",
    "$$SSW = \\sum_{g=1}^G \\sum_{i=1}^{n_g} (Y_{gi} - \\bar{Y}_{g\\cdot})^2$$\n",
    "\n",
    "Keep in mind that if an array `x` contains the values $x_1, x_2, \\ldots, x_m$, then `np.var(x)` evaluates to the variance $\\frac{1}{m}\\sum_{k=1}^m (x_k - \\bar{x})^2$. Use this along with appropriate array operations to find the observed values of $SST$ and $SSW$, and hence also $SSB$."
   ]
  },
  {
   "cell_type": "code",
   "execution_count": null,
   "metadata": {},
   "outputs": [],
   "source": [
    "#student\n",
    "\n",
    "# Use as many lines as you need.\n",
    "...\n",
    "sst = ...\n",
    "ssw = ...\n",
    "ssb = ...\n",
    "sst, ssw, ssb"
   ]
  },
  {
   "cell_type": "code",
   "execution_count": 14,
   "metadata": {},
   "outputs": [
    {
     "data": {
      "text/plain": [
       "(6010048576.9375, 5807309500.818861, 202739076.118639)"
      ]
     },
     "execution_count": 14,
     "metadata": {},
     "output_type": "execute_result"
    }
   ],
   "source": [
    "#solution\n",
    "\n",
    "var_y = np.var(y)\n",
    "group_counts = lots.group(0).column(1)\n",
    "group_vars = lots.group(0, np.var).column(1)\n",
    "\n",
    "sst = n*var_y\n",
    "ssw = sum(group_counts * group_vars)\n",
    "ssb = sst - ssw\n",
    "sst, ssw, ssb"
   ]
  },
  {
   "cell_type": "markdown",
   "metadata": {},
   "source": [
    "Now find the observed value of the $F$-statistic and check that it agrees with the statistic provided by `stats.f_oneway`."
   ]
  },
  {
   "cell_type": "code",
   "execution_count": null,
   "metadata": {},
   "outputs": [],
   "source": [
    "#student\n",
    "f_stat = ...\n",
    "f_stat"
   ]
  },
  {
   "cell_type": "code",
   "execution_count": 15,
   "metadata": {},
   "outputs": [
    {
     "data": {
      "text/plain": [
       "3.4474628507215965"
      ]
     },
     "execution_count": 15,
     "metadata": {},
     "output_type": "execute_result"
    }
   ],
   "source": [
    "#solution\n",
    "f_stat = (ssb/4) / (ssw/395)\n",
    "f_stat"
   ]
  },
  {
   "cell_type": "markdown",
   "metadata": {},
   "source": [
    "### 1d) The $p$-Value\n",
    "\n",
    "The cdf of the $F$ distribution with `df1` and `df2` degrees of freedom evaluated at the point `x` can be found by `stats.f.cdf(x, df1, df2)`. Use this to write an expression that evaluates to the $p$-value of the $F$-test above, and confirm that it agrees with the $p$-value provided by `stats.f_oneway`."
   ]
  },
  {
   "cell_type": "code",
   "execution_count": null,
   "metadata": {},
   "outputs": [],
   "source": [
    "#student\n",
    "..."
   ]
  },
  {
   "cell_type": "code",
   "execution_count": 16,
   "metadata": {},
   "outputs": [
    {
     "data": {
      "text/plain": [
       "0.008730051137522565"
      ]
     },
     "execution_count": 16,
     "metadata": {},
     "output_type": "execute_result"
    }
   ],
   "source": [
    "#solution\n",
    "1 - stats.f.cdf(f_stat, 4, 395)"
   ]
  },
  {
   "cell_type": "markdown",
   "metadata": {},
   "source": [
    "### 1e) A Nonparametric Approach\n",
    "\n",
    "Refer again to the boxplot and provide one major advantage of rank-based methods over normality assumptions for the data we are analyzing."
   ]
  },
  {
   "cell_type": "markdown",
   "metadata": {},
   "source": [
    "#student\n",
    "\n",
    "**Your answer here:**"
   ]
  },
  {
   "cell_type": "markdown",
   "metadata": {},
   "source": [
    "Now assume that for each $g$, the lot areas in Group $g$ are i.i.d. according to some distribution $F_g$. State the null hypothesis in terms of these distributions instead of in terms of the underlying means as you did earlier."
   ]
  },
  {
   "cell_type": "markdown",
   "metadata": {},
   "source": [
    "#student\n",
    "\n",
    "**Your answer here:**"
   ]
  },
  {
   "cell_type": "markdown",
   "metadata": {},
   "source": [
    "To perform the Kruskal-Wallis test of your null hypothesis, simply replace `stats.f_oneway` by `stats.kruskal`. The arguments are exactly the same. In the comment, pick the hypothesis that is better supported by the data."
   ]
  },
  {
   "cell_type": "code",
   "execution_count": null,
   "metadata": {},
   "outputs": [],
   "source": [
    "#student\n",
    "...         # Null or Alternative?"
   ]
  },
  {
   "cell_type": "code",
   "execution_count": 17,
   "metadata": {},
   "outputs": [
    {
     "data": {
      "text/plain": [
       "KruskalResult(statistic=31.55133527971719, pvalue=2.362622899216123e-06)"
      ]
     },
     "execution_count": 17,
     "metadata": {},
     "output_type": "execute_result"
    }
   ],
   "source": [
    "#solution\n",
    "stats.kruskal(grouped[0], grouped[1], grouped[2], grouped[3], grouped[4]) # Alternative"
   ]
  },
  {
   "cell_type": "markdown",
   "metadata": {},
   "source": [
    "The data have ties, so we won't go into calculating the test statistic directly from the ranks."
   ]
  },
  {
   "cell_type": "markdown",
   "metadata": {},
   "source": [
    "## 2. Comparing $FWER$ and $FDR$\n",
    "\n",
    "Suppose you are testing $m$ null hypotheses of which $m_0 \\le m$ are true. As in Friday's session, let $V$ be the number of false discoveries and $R$ the total number of discoveries. A review of terminology:\n",
    "\n",
    "- The family-wise error rate $FWER$ is the chance of at least one false discovery.\n",
    "- The false discovery proportion $FDP$ is defined as $V/R$ if $R > 0$ and $0$ otherwise. You should check that this is the same as $V/\\max(R, 1)$.\n",
    "- The false discovery rate $FDR$ is defined as $E(FDP)$.\n",
    "\n",
    "**a)** Find a relation between $FDP$ and the indicator $I(V > 0)$, and use it to show that $FDR \\le FWER$. The inequality implies that controlling $FWER$ also controls $FDR$, but as you know, controlling $FWER$ can be overly conservative.\n",
    "\n",
    "**b)** Suppose the global null hypothesis is true, that is, $m_0 = m$. Find the distribution of $FDP$. As repeated ad nauseam in Data 140, it's a good idea to start with the possible values.\n",
    "\n",
    "**c)** Show that $FDR = FWER$ if the global null hypothesis is true.\n",
    "\n",
    "\n",
    "### [Solution] Comparing $FWER$ and $FDR$\n",
    "\n",
    "**a)** $FDP \\le I(V > 0)$. Take expectations on both sides.\n",
    "\n",
    "**b)** Under the global null, every discovery is a false discovery. $FDP$ is Bernoulli $(FWER)$.\n",
    "\n",
    "**c)** Follows from (b)."
   ]
  },
  {
   "cell_type": "markdown",
   "metadata": {},
   "source": []
  }
 ],
 "metadata": {
  "kernelspec": {
   "display_name": "Python 3 (ipykernel)",
   "language": "python",
   "name": "python3"
  },
  "language_info": {
   "codemirror_mode": {
    "name": "ipython",
    "version": 3
   },
   "file_extension": ".py",
   "mimetype": "text/x-python",
   "name": "python",
   "nbconvert_exporter": "python",
   "pygments_lexer": "ipython3",
   "version": "3.9.15"
  }
 },
 "nbformat": 4,
 "nbformat_minor": 4
}
